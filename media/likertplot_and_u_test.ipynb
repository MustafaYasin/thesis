{
 "cells": [
  {
   "cell_type": "code",
   "execution_count": 1,
   "id": "5df0c524",
   "metadata": {},
   "outputs": [
    {
     "name": "stdout",
     "output_type": "stream",
     "text": [
      "Defaulting to user installation because normal site-packages is not writeable\n",
      "Requirement already satisfied: plot-likert in /home/r/.local/lib/python3.10/site-packages (0.4.0)\n",
      "Requirement already satisfied: matplotlib>=3.4.0 in /usr/lib/python3/dist-packages (from plot-likert) (3.5.1)\n",
      "Requirement already satisfied: numpy in /usr/lib/python3/dist-packages (from plot-likert) (1.21.5)\n",
      "Requirement already satisfied: pandas in /home/r/.local/lib/python3.10/site-packages (from plot-likert) (1.5.2)\n",
      "Requirement already satisfied: pytz>=2020.1 in /usr/lib/python3/dist-packages (from pandas->plot-likert) (2022.1)\n",
      "Requirement already satisfied: python-dateutil>=2.8.1 in /usr/lib/python3/dist-packages (from pandas->plot-likert) (2.8.1)\n",
      "Note: you may need to restart the kernel to use updated packages.\n"
     ]
    }
   ],
   "source": [
    "pip install plot-likert"
   ]
  },
  {
   "cell_type": "code",
   "execution_count": 2,
   "id": "68648efe",
   "metadata": {},
   "outputs": [],
   "source": [
    "import plot_likert\n"
   ]
  },
  {
   "cell_type": "code",
   "execution_count": 3,
   "id": "2bdeebdb",
   "metadata": {},
   "outputs": [],
   "source": [
    "import pandas as pd\n"
   ]
  },
  {
   "cell_type": "code",
   "execution_count": 4,
   "id": "37e5c9f0",
   "metadata": {},
   "outputs": [],
   "source": [
    "import numpy as np\n"
   ]
  },
  {
   "cell_type": "code",
   "execution_count": 5,
   "id": "6fa8364d",
   "metadata": {},
   "outputs": [],
   "source": [
    "rng = np.random.default_rng(seed=42)\n"
   ]
  },
  {
   "cell_type": "code",
   "execution_count": 6,
   "id": "81b85620",
   "metadata": {},
   "outputs": [],
   "source": [
    "data = pd.DataFrame(rng.choice(plot_likert.scales.agree, (10,2)), columns=['Q1','Q2'])\n"
   ]
  },
  {
   "cell_type": "code",
   "execution_count": 7,
   "id": "d6a4ec40",
   "metadata": {},
   "outputs": [
    {
     "name": "stderr",
     "output_type": "stream",
     "text": [
      "/home/r/.local/lib/python3.10/site-packages/plot_likert/plot_likert.py:251: FutureWarning: DataFrame.set_axis 'inplace' keyword is deprecated and will be removed in a future version. Use `obj = obj.set_axis(..., copy=False)` instead\n",
      "  df = df.set_axis(new_labels, axis=1, inplace=False)\n"
     ]
    },
    {
     "data": {
      "image/png": "[encoded data removed]",
      "text/plain": [
       "<Figure size 432x288 with 1 Axes>"
      ]
     },
     "metadata": {
      "needs_background": "light"
     },
     "output_type": "display_data"
    }
   ],
   "source": [
    "plot_likert.plot_likert(data, plot_likert.scales.agree);\n"
   ]
  },
  {
   "cell_type": "code",
   "execution_count": 8,
   "id": "975bf262",
   "metadata": {},
   "outputs": [
    {
     "data": {
      "text/html": [
       "<div>\n",
       "<style scoped>\n",
       "    .dataframe tbody tr th:only-of-type {\n",
       "        vertical-align: middle;\n",
       "    }\n",
       "\n",
       "    .dataframe tbody tr th {\n",
       "        vertical-align: top;\n",
       "    }\n",
       "\n",
       "    .dataframe thead th {\n",
       "        text-align: right;\n",
       "    }\n",
       "</style>\n",
       "<table border=\"1\" class=\"dataframe\">\n",
       "  <thead>\n",
       "    <tr style=\"text-align: right;\">\n",
       "      <th></th>\n",
       "      <th>Q1</th>\n",
       "      <th>Q2</th>\n",
       "    </tr>\n",
       "  </thead>\n",
       "  <tbody>\n",
       "    <tr>\n",
       "      <th>0</th>\n",
       "      <td>Strongly disagree</td>\n",
       "      <td>Agree</td>\n",
       "    </tr>\n",
       "    <tr>\n",
       "      <th>1</th>\n",
       "      <td>Agree</td>\n",
       "      <td>Neither agree nor disagree</td>\n",
       "    </tr>\n",
       "    <tr>\n",
       "      <th>2</th>\n",
       "      <td>Neither agree nor disagree</td>\n",
       "      <td>Strongly agree</td>\n",
       "    </tr>\n",
       "    <tr>\n",
       "      <th>3</th>\n",
       "      <td>Strongly disagree</td>\n",
       "      <td>Agree</td>\n",
       "    </tr>\n",
       "    <tr>\n",
       "      <th>4</th>\n",
       "      <td>Disagree</td>\n",
       "      <td>Strongly disagree</td>\n",
       "    </tr>\n",
       "    <tr>\n",
       "      <th>5</th>\n",
       "      <td>Neither agree nor disagree</td>\n",
       "      <td>Strongly agree</td>\n",
       "    </tr>\n",
       "    <tr>\n",
       "      <th>6</th>\n",
       "      <td>Agree</td>\n",
       "      <td>Agree</td>\n",
       "    </tr>\n",
       "    <tr>\n",
       "      <th>7</th>\n",
       "      <td>Agree</td>\n",
       "      <td>Agree</td>\n",
       "    </tr>\n",
       "    <tr>\n",
       "      <th>8</th>\n",
       "      <td>Neither agree nor disagree</td>\n",
       "      <td>Strongly disagree</td>\n",
       "    </tr>\n",
       "    <tr>\n",
       "      <th>9</th>\n",
       "      <td>Strongly agree</td>\n",
       "      <td>Neither agree nor disagree</td>\n",
       "    </tr>\n",
       "  </tbody>\n",
       "</table>\n",
       "</div>"
      ],
      "text/plain": [
       "                           Q1                          Q2\n",
       "0           Strongly disagree                       Agree\n",
       "1                       Agree  Neither agree nor disagree\n",
       "2  Neither agree nor disagree              Strongly agree\n",
       "3           Strongly disagree                       Agree\n",
       "4                    Disagree           Strongly disagree\n",
       "5  Neither agree nor disagree              Strongly agree\n",
       "6                       Agree                       Agree\n",
       "7                       Agree                       Agree\n",
       "8  Neither agree nor disagree           Strongly disagree\n",
       "9              Strongly agree  Neither agree nor disagree"
      ]
     },
     "execution_count": 8,
     "metadata": {},
     "output_type": "execute_result"
    }
   ],
   "source": [
    "data\n"
   ]
  },
  {
   "cell_type": "code",
   "execution_count": 9,
   "id": "db95936e",
   "metadata": {},
   "outputs": [],
   "source": [
    "df = pd.read_csv(\"survey.csv\")\n"
   ]
  },
  {
   "cell_type": "code",
   "execution_count": 10,
   "id": "be068561",
   "metadata": {},
   "outputs": [],
   "source": [
    "df2 = df.rename(columns={df.columns[8]: \"x\",df.columns[9]: \"Q1\", df.columns[10]: \"Q2\", df.columns[11]: \"Q3\", df.columns[12]: \"Q4\", df.columns[13]: \"Q5\", df.columns[14]: \"Q6\"})"
   ]
  },
  {
   "cell_type": "code",
   "execution_count": 11,
   "id": "cd194166",
   "metadata": {},
   "outputs": [],
   "source": [
    "subset = df2[[\"x\",\"Q1\",\"Q2\",\"Q3\",\"Q4\",\"Q5\",\"Q6\"]]"
   ]
  },
  {
   "cell_type": "code",
   "execution_count": 12,
   "id": "3d3ffe32",
   "metadata": {},
   "outputs": [],
   "source": [
    "mask = subset[\"x\"] == \"Sliders\"\n",
    "mask2 = subset[\"x\"] == \"Radar Chart\"\n",
    "df_slider = subset.loc[mask, [\"Q1\", \"Q2\", \"Q3\", \"Q4\", \"Q5\", \"Q6\"]]\n",
    "df_radar = subset.loc[mask2, [\"Q1\", \"Q2\", \"Q3\", \"Q4\", \"Q5\", \"Q6\"]]\n"
   ]
  },
  {
   "cell_type": "code",
   "execution_count": 13,
   "id": "c0fd339e",
   "metadata": {},
   "outputs": [],
   "source": [
    "plot_likert.scales.agree[2]='Neutral'"
   ]
  },
  {
   "cell_type": "code",
   "execution_count": 14,
   "id": "8e4ba65c",
   "metadata": {},
   "outputs": [
    {
     "data": {
      "text/plain": [
       "['Strongly disagree', 'Disagree', 'Neutral', 'Agree', 'Strongly agree']"
      ]
     },
     "execution_count": 14,
     "metadata": {},
     "output_type": "execute_result"
    }
   ],
   "source": [
    "plot_likert.scales.agree"
   ]
  },
  {
   "cell_type": "code",
   "execution_count": null,
   "id": "0dc189e4",
   "metadata": {},
   "outputs": [],
   "source": []
  },
  {
   "cell_type": "code",
   "execution_count": 15,
   "id": "2ff323db",
   "metadata": {},
   "outputs": [
    {
     "name": "stderr",
     "output_type": "stream",
     "text": [
      "/home/r/.local/lib/python3.10/site-packages/plot_likert/plot_likert.py:251: FutureWarning: DataFrame.set_axis 'inplace' keyword is deprecated and will be removed in a future version. Use `obj = obj.set_axis(..., copy=False)` instead\n",
      "  df = df.set_axis(new_labels, axis=1, inplace=False)\n",
      "/home/r/.local/lib/python3.10/site-packages/plot_likert/plot_likert.py:299: UserWarning: In your data, not all questions have the same number of responses. i.e., different numbers of people answered each question. Therefore, the percentages aren't directly comparable: X% for one question represents a different number of responses than X% for another question, yet they will appear the same in the percentage graph. This may be misleading to your reader.\n",
      "  warn(\n"
     ]
    },
    {
     "data": {
      "image/png": "[encoded data removed]",
      "text/plain": [
       "<Figure size 432x288 with 1 Axes>"
      ]
     },
     "metadata": {
      "needs_background": "light"
     },
     "output_type": "display_data"
    }
   ],
   "source": [
    "slider_plot=plot_likert.plot_likert(df_slider, plot_likert.scales.agree, plot_percentage=True,\n",
    "                        bar_labels=True, bar_labels_color=\"snow\", colors=plot_likert.colors.default_with_darker_neutral);\n",
    "     "
   ]
  },
  {
   "cell_type": "code",
   "execution_count": 16,
   "id": "937fd4b0",
   "metadata": {},
   "outputs": [
    {
     "name": "stderr",
     "output_type": "stream",
     "text": [
      "/home/r/.local/lib/python3.10/site-packages/plot_likert/plot_likert.py:251: FutureWarning: DataFrame.set_axis 'inplace' keyword is deprecated and will be removed in a future version. Use `obj = obj.set_axis(..., copy=False)` instead\n",
      "  df = df.set_axis(new_labels, axis=1, inplace=False)\n",
      "/home/r/.local/lib/python3.10/site-packages/plot_likert/plot_likert.py:299: UserWarning: In your data, not all questions have the same number of responses. i.e., different numbers of people answered each question. Therefore, the percentages aren't directly comparable: X% for one question represents a different number of responses than X% for another question, yet they will appear the same in the percentage graph. This may be misleading to your reader.\n",
      "  warn(\n"
     ]
    },
    {
     "data": {
      "image/png": "[encoded data removed]",
      "text/plain": [
       "<Figure size 432x288 with 1 Axes>"
      ]
     },
     "metadata": {
      "needs_background": "light"
     },
     "output_type": "display_data"
    }
   ],
   "source": [
    "radar_plot=plot_likert.plot_likert(df_radar, plot_likert.scales.agree, plot_percentage=True,\n",
    "                        bar_labels=True, bar_labels_color=\"snow\", colors=plot_likert.colors.default_with_darker_neutral);\n",
    "     "
   ]
  },
  {
   "cell_type": "code",
   "execution_count": 17,
   "id": "16494b26",
   "metadata": {},
   "outputs": [
    {
     "ename": "NameError",
     "evalue": "name 'plt' is not defined",
     "output_type": "error",
     "traceback": [
      "\u001b[0;31m---------------------------------------------------------------------------\u001b[0m",
      "\u001b[0;31mNameError\u001b[0m                                 Traceback (most recent call last)",
      "\u001b[0;32m/tmp/ipykernel_8344/1053309541.py\u001b[0m in \u001b[0;36m<module>\u001b[0;34m\u001b[0m\n\u001b[0;32m----> 1\u001b[0;31m \u001b[0mplt\u001b[0m\u001b[0;34m.\u001b[0m\u001b[0msavefig\u001b[0m\u001b[0;34m(\u001b[0m\u001b[0;34m\"radar_plot.png\"\u001b[0m\u001b[0;34m)\u001b[0m\u001b[0;34m\u001b[0m\u001b[0;34m\u001b[0m\u001b[0m\n\u001b[0m",
      "\u001b[0;31mNameError\u001b[0m: name 'plt' is not defined"
     ]
    }
   ],
   "source": [
    "plt.savefig(\"radar_plot.png\")"
   ]
  },
  {
   "cell_type": "code",
   "execution_count": null,
   "id": "a27247ae",
   "metadata": {},
   "outputs": [],
   "source": [
    "import matplotlib.pyplot as plt"
   ]
  },
  {
   "cell_type": "code",
   "execution_count": null,
   "id": "d43e9cfb",
   "metadata": {},
   "outputs": [],
   "source": [
    "plt.savefig(\"radar_plot.png\")"
   ]
  },
  {
   "cell_type": "code",
   "execution_count": null,
   "id": "61d83c1e",
   "metadata": {},
   "outputs": [],
   "source": [
    "df_slider"
   ]
  },
  {
   "cell_type": "code",
   "execution_count": 18,
   "id": "ac436ff1",
   "metadata": {},
   "outputs": [],
   "source": [
    "from scipy.stats import rankdata\n",
    "\n",
    "df_radar.dropna(inplace=True)\n",
    "df_slider.dropna(inplace=True)\n"
   ]
  },
  {
   "cell_type": "code",
   "execution_count": 22,
   "id": "359f8ba5",
   "metadata": {},
   "outputs": [
    {
     "data": {
      "text/plain": [
       "1     3\n",
       "2     2\n",
       "5     5\n",
       "6     3\n",
       "7     5\n",
       "10    5\n",
       "11    5\n",
       "14    5\n",
       "20    5\n",
       "22    5\n",
       "27    4\n",
       "29    5\n",
       "32    4\n",
       "35    5\n",
       "37    4\n",
       "40    4\n",
       "43    4\n",
       "44    4\n",
       "47    4\n",
       "48    4\n",
       "52    5\n",
       "54    5\n",
       "Name: Q1, dtype: int64"
      ]
     },
     "execution_count": 22,
     "metadata": {},
     "output_type": "execute_result"
    }
   ],
   "source": [
    "categoryToScore={'Strongly agree':5,'Agree':4,'Neutral':3,'Disagree':2,'Strongly disagree':1}\n",
    "radar_num=df_radar.applymap(lambda x: categoryToScore[x])\n",
    "slider_num=df_slider.applymap(lambda x: categoryToScore[x])\n",
    "slider_num['Q1']"
   ]
  },
  {
   "cell_type": "code",
   "execution_count": 23,
   "id": "c887c24f",
   "metadata": {},
   "outputs": [],
   "source": [
    "r_1_c=rankdata(radar_num['Q1'])\n",
    "s_1_c=rankdata(slider_num['Q1'])\n",
    "\n",
    "r_2_c=rankdata(radar_num['Q2'])\n",
    "s_2_c=rankdata(slider_num['Q2'])\n",
    "\n",
    "r_3_c=rankdata(radar_num['Q3'])\n",
    "s_3_c=rankdata(slider_num['Q3'])\n",
    "\n",
    "r_4_c=rankdata(radar_num['Q4'])\n",
    "s_4_c=rankdata(slider_num['Q4'])\n",
    "\n",
    "r_5_c=rankdata(radar_num['Q5'])\n",
    "s_5_c=rankdata(slider_num['Q5'])\n",
    "\n",
    "r_6_c=rankdata(radar_num['Q6'])\n",
    "s_6_c=rankdata(slider_num['Q6'])"
   ]
  },
  {
   "cell_type": "code",
   "execution_count": 24,
   "id": "e9b1f823",
   "metadata": {},
   "outputs": [],
   "source": [
    "from scipy.stats import mannwhitneyu"
   ]
  },
  {
   "cell_type": "code",
   "execution_count": 30,
   "id": "aeb5da8b",
   "metadata": {},
   "outputs": [],
   "source": [
    "u1,p1=mannwhitneyu(r_1_c,s_1_c, alternative='two-sided')\n",
    "u2,p2=mannwhitneyu(r_2_c,s_2_c, alternative='two-sided')\n",
    "u3,p3=mannwhitneyu(r_3_c,s_3_c, alternative='two-sided')\n",
    "u4,p4=mannwhitneyu(r_4_c,s_4_c, alternative='two-sided')\n",
    "u5,p5=mannwhitneyu(r_5_c,s_5_c, alternative='two-sided')\n",
    "u6,p6=mannwhitneyu(r_6_c,s_6_c, alternative='two-sided')"
   ]
  },
  {
   "cell_type": "code",
   "execution_count": 32,
   "id": "43ebb533",
   "metadata": {},
   "outputs": [
    {
     "data": {
      "text/plain": [
       "(365.0, 0.02425526952725948)"
      ]
     },
     "execution_count": 32,
     "metadata": {},
     "output_type": "execute_result"
    }
   ],
   "source": [
    "u1,p1"
   ]
  },
  {
   "cell_type": "code",
   "execution_count": 33,
   "id": "5f0555b2",
   "metadata": {},
   "outputs": [
    {
     "data": {
      "text/plain": [
       "(359.0, 0.03312190377421975)"
      ]
     },
     "execution_count": 33,
     "metadata": {},
     "output_type": "execute_result"
    }
   ],
   "source": [
    "u2,p2"
   ]
  },
  {
   "cell_type": "code",
   "execution_count": 34,
   "id": "9d6d515b",
   "metadata": {},
   "outputs": [
    {
     "data": {
      "text/plain": [
       "(263.0, 0.9910901212945156)"
      ]
     },
     "execution_count": 34,
     "metadata": {},
     "output_type": "execute_result"
    }
   ],
   "source": [
    "u3,p3"
   ]
  },
  {
   "cell_type": "code",
   "execution_count": 35,
   "id": "011fd948",
   "metadata": {},
   "outputs": [
    {
     "data": {
      "text/plain": [
       "(235.0, 0.5202779339982138)"
      ]
     },
     "execution_count": 35,
     "metadata": {},
     "output_type": "execute_result"
    }
   ],
   "source": [
    "u4,p4"
   ]
  },
  {
   "cell_type": "code",
   "execution_count": 36,
   "id": "28d513bf",
   "metadata": {},
   "outputs": [
    {
     "data": {
      "text/plain": [
       "(243.0, 0.6415439258601604)"
      ]
     },
     "execution_count": 36,
     "metadata": {},
     "output_type": "execute_result"
    }
   ],
   "source": [
    "u5,p5"
   ]
  },
  {
   "cell_type": "code",
   "execution_count": 37,
   "id": "7fe700a2",
   "metadata": {},
   "outputs": [
    {
     "data": {
      "text/plain": [
       "(357.5, 0.035142840991921824)"
      ]
     },
     "execution_count": 37,
     "metadata": {},
     "output_type": "execute_result"
    }
   ],
   "source": [
    "u6,p6"
   ]
  },
  {
   "cell_type": "code",
   "execution_count": null,
   "id": "5060dce1",
   "metadata": {},
   "outputs": [],
   "source": []
  }
 ],
 "metadata": {
  "kernelspec": {
   "display_name": "Python 3 (ipykernel)",
   "language": "python",
   "name": "python3"
  },
  "language_info": {
   "codemirror_mode": {
    "name": "ipython",
    "version": 3
   },
   "file_extension": ".py",
   "mimetype": "text/x-python",
   "name": "python",
   "nbconvert_exporter": "python",
   "pygments_lexer": "ipython3",
   "version": "3.10.6"
  }
 },
 "nbformat": 4,
 "nbformat_minor": 5
}
