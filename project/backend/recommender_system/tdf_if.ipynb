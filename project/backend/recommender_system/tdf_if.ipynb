{
 "cells": [
  {
   "cell_type": "code",
   "execution_count": 15,
   "metadata": {},
   "outputs": [],
   "source": [
    "import pandas as pd\n",
    "from sklearn.feature_extraction.text import TfidfVectorizer\n",
    "from sklearn.metrics.pairwise import linear_kernel\n",
    "import numpy as np"
   ]
  },
  {
   "cell_type": "code",
   "execution_count": 88,
   "metadata": {},
   "outputs": [
    {
     "data": {
      "text/html": [
       "<div>\n",
       "<style scoped>\n",
       "    .dataframe tbody tr th:only-of-type {\n",
       "        vertical-align: middle;\n",
       "    }\n",
       "\n",
       "    .dataframe tbody tr th {\n",
       "        vertical-align: top;\n",
       "    }\n",
       "\n",
       "    .dataframe thead th {\n",
       "        text-align: right;\n",
       "    }\n",
       "</style>\n",
       "<table border=\"1\" class=\"dataframe\">\n",
       "  <thead>\n",
       "    <tr style=\"text-align: right;\">\n",
       "      <th></th>\n",
       "      <th>username</th>\n",
       "      <th>fullName</th>\n",
       "      <th>bio</th>\n",
       "      <th>email</th>\n",
       "      <th>repository_count</th>\n",
       "      <th>company</th>\n",
       "      <th>avatar_url</th>\n",
       "      <th>isHireable</th>\n",
       "      <th>star_time</th>\n",
       "      <th>followers</th>\n",
       "      <th>...</th>\n",
       "      <th>isDeveloperProgramMember</th>\n",
       "      <th>isSiteAdmin</th>\n",
       "      <th>isViewer</th>\n",
       "      <th>anyPinnableItems</th>\n",
       "      <th>viewerIsFollowing</th>\n",
       "      <th>sponsors</th>\n",
       "      <th>primary_language</th>\n",
       "      <th>yearsofExperience</th>\n",
       "      <th>location</th>\n",
       "      <th>domainofExpertise</th>\n",
       "    </tr>\n",
       "  </thead>\n",
       "  <tbody>\n",
       "    <tr>\n",
       "      <th>0</th>\n",
       "      <td>alexbw</td>\n",
       "      <td>Alex Wiltschko</td>\n",
       "      <td>NaN</td>\n",
       "      <td>alex.bw@gmail.com</td>\n",
       "      <td>47</td>\n",
       "      <td>Google</td>\n",
       "      <td>https://avatars.githubusercontent.com/u/161935...</td>\n",
       "      <td>False</td>\n",
       "      <td>2016-08-15 18:39:55</td>\n",
       "      <td>396</td>\n",
       "      <td>...</td>\n",
       "      <td>False</td>\n",
       "      <td>False</td>\n",
       "      <td>True</td>\n",
       "      <td>False</td>\n",
       "      <td>0</td>\n",
       "      <td>{'C': 5, 'Objective-C': 5, 'C++': 1, 'Python':...</td>\n",
       "      <td>9</td>\n",
       "      <td>Boston, MA</td>\n",
       "      <td>Data Science</td>\n",
       "      <td>NaN</td>\n",
       "    </tr>\n",
       "    <tr>\n",
       "      <th>1</th>\n",
       "      <td>iassael</td>\n",
       "      <td>Yannis Assael</td>\n",
       "      <td>Research Scientist</td>\n",
       "      <td>iassael@gmail.com</td>\n",
       "      <td>27</td>\n",
       "      <td>DeepMind</td>\n",
       "      <td>https://avatars.githubusercontent.com/u/216211...</td>\n",
       "      <td>True</td>\n",
       "      <td>2016-08-15 19:14:32</td>\n",
       "      <td>265</td>\n",
       "      <td>...</td>\n",
       "      <td>False</td>\n",
       "      <td>False</td>\n",
       "      <td>True</td>\n",
       "      <td>False</td>\n",
       "      <td>0</td>\n",
       "      <td>{'JavaScript': 1, 'Java': 2, 'PHP': 1, 'C': 1,...</td>\n",
       "      <td>3</td>\n",
       "      <td>London</td>\n",
       "      <td>Data Science</td>\n",
       "      <td>NaN</td>\n",
       "    </tr>\n",
       "    <tr>\n",
       "      <th>2</th>\n",
       "      <td>bshillingford</td>\n",
       "      <td>Brendan Shillingford</td>\n",
       "      <td>NaN</td>\n",
       "      <td>NaN</td>\n",
       "      <td>24</td>\n",
       "      <td>NaN</td>\n",
       "      <td>https://avatars.githubusercontent.com/u/232674...</td>\n",
       "      <td>False</td>\n",
       "      <td>2016-08-16 06:35:51</td>\n",
       "      <td>446</td>\n",
       "      <td>...</td>\n",
       "      <td>False</td>\n",
       "      <td>False</td>\n",
       "      <td>True</td>\n",
       "      <td>False</td>\n",
       "      <td>0</td>\n",
       "      <td>{'Python': 14, 'Lua': 7, 'CSS': 1, 'HTML': 1, ...</td>\n",
       "      <td>5</td>\n",
       "      <td>NaN</td>\n",
       "      <td>Data Modeling</td>\n",
       "      <td>NaN</td>\n",
       "    </tr>\n",
       "    <tr>\n",
       "      <th>3</th>\n",
       "      <td>hmansell</td>\n",
       "      <td>Howard Mansell</td>\n",
       "      <td>NaN</td>\n",
       "      <td>howard@mansells.us</td>\n",
       "      <td>0</td>\n",
       "      <td>Facebook</td>\n",
       "      <td>https://avatars.githubusercontent.com/u/980875...</td>\n",
       "      <td>False</td>\n",
       "      <td>2016-08-24 15:41:21</td>\n",
       "      <td>30</td>\n",
       "      <td>...</td>\n",
       "      <td>False</td>\n",
       "      <td>False</td>\n",
       "      <td>True</td>\n",
       "      <td>False</td>\n",
       "      <td>0</td>\n",
       "      <td>{}</td>\n",
       "      <td>2</td>\n",
       "      <td>New York</td>\n",
       "      <td>AI for Manufacturing</td>\n",
       "      <td>NaN</td>\n",
       "    </tr>\n",
       "    <tr>\n",
       "      <th>4</th>\n",
       "      <td>clementfarabet</td>\n",
       "      <td>Clement Farabet</td>\n",
       "      <td>NaN</td>\n",
       "      <td>clement.farabet@gmail.com</td>\n",
       "      <td>79</td>\n",
       "      <td>@NVIDIA</td>\n",
       "      <td>https://avatars.githubusercontent.com/u/188959...</td>\n",
       "      <td>False</td>\n",
       "      <td>2016-09-23 00:09:18</td>\n",
       "      <td>675</td>\n",
       "      <td>...</td>\n",
       "      <td>False</td>\n",
       "      <td>False</td>\n",
       "      <td>True</td>\n",
       "      <td>False</td>\n",
       "      <td>0</td>\n",
       "      <td>{'C': 18, 'Lua': 45, 'Shell': 2, 'C++': 3, 'PH...</td>\n",
       "      <td>5</td>\n",
       "      <td>San Francisco</td>\n",
       "      <td>Data Management</td>\n",
       "      <td>NaN</td>\n",
       "    </tr>\n",
       "  </tbody>\n",
       "</table>\n",
       "<p>5 rows × 28 columns</p>\n",
       "</div>"
      ],
      "text/plain": [
       "         username              fullName                 bio  \\\n",
       "0          alexbw        Alex Wiltschko                 NaN   \n",
       "1         iassael         Yannis Assael  Research Scientist   \n",
       "2   bshillingford  Brendan Shillingford                 NaN   \n",
       "3        hmansell        Howard Mansell                 NaN   \n",
       "4  clementfarabet       Clement Farabet                 NaN   \n",
       "\n",
       "                       email  repository_count   company  \\\n",
       "0          alex.bw@gmail.com                47    Google   \n",
       "1          iassael@gmail.com                27  DeepMind   \n",
       "2                        NaN                24       NaN   \n",
       "3         howard@mansells.us                 0  Facebook   \n",
       "4  clement.farabet@gmail.com                79  @NVIDIA    \n",
       "\n",
       "                                          avatar_url  isHireable  \\\n",
       "0  https://avatars.githubusercontent.com/u/161935...       False   \n",
       "1  https://avatars.githubusercontent.com/u/216211...        True   \n",
       "2  https://avatars.githubusercontent.com/u/232674...       False   \n",
       "3  https://avatars.githubusercontent.com/u/980875...       False   \n",
       "4  https://avatars.githubusercontent.com/u/188959...       False   \n",
       "\n",
       "             star_time  followers  ...  isDeveloperProgramMember  isSiteAdmin  \\\n",
       "0  2016-08-15 18:39:55        396  ...                     False        False   \n",
       "1  2016-08-15 19:14:32        265  ...                     False        False   \n",
       "2  2016-08-16 06:35:51        446  ...                     False        False   \n",
       "3  2016-08-24 15:41:21         30  ...                     False        False   \n",
       "4  2016-09-23 00:09:18        675  ...                     False        False   \n",
       "\n",
       "  isViewer anyPinnableItems viewerIsFollowing  \\\n",
       "0     True            False                 0   \n",
       "1     True            False                 0   \n",
       "2     True            False                 0   \n",
       "3     True            False                 0   \n",
       "4     True            False                 0   \n",
       "\n",
       "                                            sponsors  primary_language  \\\n",
       "0  {'C': 5, 'Objective-C': 5, 'C++': 1, 'Python':...                 9   \n",
       "1  {'JavaScript': 1, 'Java': 2, 'PHP': 1, 'C': 1,...                 3   \n",
       "2  {'Python': 14, 'Lua': 7, 'CSS': 1, 'HTML': 1, ...                 5   \n",
       "3                                                 {}                 2   \n",
       "4  {'C': 18, 'Lua': 45, 'Shell': 2, 'C++': 3, 'PH...                 5   \n",
       "\n",
       "   yearsofExperience              location  domainofExpertise  \n",
       "0         Boston, MA          Data Science                NaN  \n",
       "1             London          Data Science                NaN  \n",
       "2                NaN         Data Modeling                NaN  \n",
       "3           New York  AI for Manufacturing                NaN  \n",
       "4      San Francisco       Data Management                NaN  \n",
       "\n",
       "[5 rows x 28 columns]"
      ]
     },
     "execution_count": 88,
     "metadata": {},
     "output_type": "execute_result"
    }
   ],
   "source": [
    "df = pd.read_csv('../user_data_csv/pytorch_pytorch.csv')\n",
    "df.head()"
   ]
  },
  {
   "cell_type": "code",
   "execution_count": 89,
   "metadata": {},
   "outputs": [
    {
     "name": "stderr",
     "output_type": "stream",
     "text": [
      "/var/folders/ml/8_bkc7k91cb777tm6mxkvfbc0000gn/T/ipykernel_42112/525773181.py:2: SettingWithCopyWarning: \n",
      "A value is trying to be set on a copy of a slice from a DataFrame.\n",
      "Try using .loc[row_indexer,col_indexer] = value instead\n",
      "\n",
      "See the caveats in the documentation: https://pandas.pydata.org/pandas-docs/stable/user_guide/indexing.html#returning-a-view-versus-a-copy\n",
      "  df_tfidf['id'] = df_tfidf.index\n"
     ]
    },
    {
     "data": {
      "text/html": [
       "<div>\n",
       "<style scoped>\n",
       "    .dataframe tbody tr th:only-of-type {\n",
       "        vertical-align: middle;\n",
       "    }\n",
       "\n",
       "    .dataframe tbody tr th {\n",
       "        vertical-align: top;\n",
       "    }\n",
       "\n",
       "    .dataframe thead th {\n",
       "        text-align: right;\n",
       "    }\n",
       "</style>\n",
       "<table border=\"1\" class=\"dataframe\">\n",
       "  <thead>\n",
       "    <tr style=\"text-align: right;\">\n",
       "      <th></th>\n",
       "      <th>id</th>\n",
       "      <th>bio</th>\n",
       "    </tr>\n",
       "  </thead>\n",
       "  <tbody>\n",
       "    <tr>\n",
       "      <th>0</th>\n",
       "      <td>0</td>\n",
       "      <td>NaN</td>\n",
       "    </tr>\n",
       "    <tr>\n",
       "      <th>1</th>\n",
       "      <td>1</td>\n",
       "      <td>Research Scientist</td>\n",
       "    </tr>\n",
       "    <tr>\n",
       "      <th>2</th>\n",
       "      <td>2</td>\n",
       "      <td>NaN</td>\n",
       "    </tr>\n",
       "    <tr>\n",
       "      <th>3</th>\n",
       "      <td>3</td>\n",
       "      <td>NaN</td>\n",
       "    </tr>\n",
       "    <tr>\n",
       "      <th>4</th>\n",
       "      <td>4</td>\n",
       "      <td>NaN</td>\n",
       "    </tr>\n",
       "  </tbody>\n",
       "</table>\n",
       "</div>"
      ],
      "text/plain": [
       "   id                 bio\n",
       "0   0                 NaN\n",
       "1   1  Research Scientist\n",
       "2   2                 NaN\n",
       "3   3                 NaN\n",
       "4   4                 NaN"
      ]
     },
     "execution_count": 89,
     "metadata": {},
     "output_type": "execute_result"
    }
   ],
   "source": [
    "df_tfidf = df[['bio']]\n",
    "df_tfidf['id'] = df_tfidf.index\n",
    "df_tfidf = df_tfidf[['id','bio']]\n",
    "df_tfidf.head()"
   ]
  },
  {
   "cell_type": "code",
   "execution_count": 90,
   "metadata": {},
   "outputs": [
    {
     "data": {
      "text/plain": [
       "(300, 1542)"
      ]
     },
     "execution_count": 90,
     "metadata": {},
     "output_type": "execute_result"
    }
   ],
   "source": [
    "tf = TfidfVectorizer(analyzer='word', ngram_range=(1, 3), min_df=0, stop_words='english')\n",
    "tfidf_matrix = tf.fit_transform(df_tfidf['bio'].values.astype('U'))\n",
    "tfidf_matrix.shape"
   ]
  },
  {
   "cell_type": "code",
   "execution_count": 91,
   "metadata": {},
   "outputs": [],
   "source": [
    "cosine_similarities = linear_kernel(tfidf_matrix, tfidf_matrix)\n",
    "results = {}"
   ]
  },
  {
   "cell_type": "code",
   "execution_count": null,
   "metadata": {},
   "outputs": [],
   "source": []
  },
  {
   "cell_type": "code",
   "execution_count": 99,
   "metadata": {},
   "outputs": [
    {
     "name": "stdout",
     "output_type": "stream",
     "text": [
      "done!\n"
     ]
    }
   ],
   "source": [
    "for idx, row in df_tfidf.iterrows():\n",
    "    similar_indices = cosine_similarities[idx].argsort()[:-100:-1]\n",
    "    similar_items = [(cosine_similarities[idx][i], df_tfidf['id'][i]) for i in similar_indices]\n",
    "    results[row['id']] = similar_items[1:]\n",
    "\n",
    "print('done!')"
   ]
  },
  {
   "cell_type": "code",
   "execution_count": 100,
   "metadata": {},
   "outputs": [],
   "source": [
    "def item(id):\n",
    "    return df_tfidf.loc[df_tfidf['id'] == id]['bio'].tolist()[0].split(' - ')[0]"
   ]
  },
  {
   "cell_type": "code",
   "execution_count": 101,
   "metadata": {},
   "outputs": [
    {
     "name": "stdout",
     "output_type": "stream",
     "text": [
      "Recommending 5 products similar to Researcher @NVIDIA, Formerly Mila | CMU | MSR | FAIR | Element AI...\n",
      "-------\n",
      "Recommended: Research Scientist at FAIR\n",
      " (score:0.08801818621803285)\n",
      "Recommended: Research Scientist in Meta AI Research (FAIR) (score:0.07802597074875811)\n",
      "Recommended: Researcher Machine Learning and Vision at Concordia U/MILA/UdeM (score:0.07555146609620625)\n",
      "Recommended: @scoutapp-ai  (score:0.06275448039732234)\n",
      "Recommended: covariant.ai (score:0.06275448039732234)\n"
     ]
    }
   ],
   "source": [
    "def recommend(item_id, num):\n",
    "    print(\"Recommending \" + str(num) + \" products similar to \" + item(item_id) + \"...\")\n",
    "    print(\"-------\")\n",
    "    recs = results[item_id][:num]\n",
    "    for rec in recs:\n",
    "        print(\"Recommended: \" + item(rec[1]) + \" (score:\" + str(rec[0]) + \")\")\n",
    "\n",
    "recommend(item_id=11, num=5)"
   ]
  },
  {
   "cell_type": "code",
   "execution_count": null,
   "metadata": {},
   "outputs": [],
   "source": []
  },
  {
   "cell_type": "code",
   "execution_count": null,
   "metadata": {},
   "outputs": [],
   "source": []
  }
 ],
 "metadata": {
  "kernelspec": {
   "display_name": "Python 3.10.4 ('thesis')",
   "language": "python",
   "name": "python3"
  },
  "language_info": {
   "codemirror_mode": {
    "name": "ipython",
    "version": 3
   },
   "file_extension": ".py",
   "mimetype": "text/x-python",
   "name": "python",
   "nbconvert_exporter": "python",
   "pygments_lexer": "ipython3",
   "version": "3.10.4"
  },
  "orig_nbformat": 4,
  "vscode": {
   "interpreter": {
    "hash": "474cabef28ef5f39850ae0283db27a2b2b64f747313c5bcb210a7b2692fe8216"
   }
  }
 },
 "nbformat": 4,
 "nbformat_minor": 2
}
