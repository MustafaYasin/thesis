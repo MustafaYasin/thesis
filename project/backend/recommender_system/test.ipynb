{
 "cells": [
  {
   "cell_type": "code",
   "execution_count": 34,
   "metadata": {},
   "outputs": [],
   "source": [
    "import pandas as pd\n",
    "from sklearn.feature_extraction.text import TfidfVectorizer\n",
    "from sklearn.metrics.pairwise import linear_kernel\n",
    "import re"
   ]
  },
  {
   "cell_type": "code",
   "execution_count": null,
   "metadata": {},
   "outputs": [],
   "source": []
  },
  {
   "cell_type": "code",
   "execution_count": 40,
   "metadata": {},
   "outputs": [
    {
     "data": {
      "text/html": [
       "<div>\n",
       "<style scoped>\n",
       "    .dataframe tbody tr th:only-of-type {\n",
       "        vertical-align: middle;\n",
       "    }\n",
       "\n",
       "    .dataframe tbody tr th {\n",
       "        vertical-align: top;\n",
       "    }\n",
       "\n",
       "    .dataframe thead th {\n",
       "        text-align: right;\n",
       "    }\n",
       "</style>\n",
       "<table border=\"1\" class=\"dataframe\">\n",
       "  <thead>\n",
       "    <tr style=\"text-align: right;\">\n",
       "      <th></th>\n",
       "      <th>USERNAMES</th>\n",
       "      <th>READMES</th>\n",
       "    </tr>\n",
       "  </thead>\n",
       "  <tbody>\n",
       "    <tr>\n",
       "      <th>0</th>\n",
       "      <td>alexbw</td>\n",
       "      <td>Sampling Inference for Bayesian HSMMs and HMMs...</td>\n",
       "    </tr>\n",
       "    <tr>\n",
       "      <th>1</th>\n",
       "      <td>iassael</td>\n",
       "      <td>DEARanking   Proposing a hybrid DEA Polynomial...</td>\n",
       "    </tr>\n",
       "    <tr>\n",
       "      <th>2</th>\n",
       "      <td>bshillingford</td>\n",
       "      <td>id3tag fix codehackathon2014   Team members  B...</td>\n",
       "    </tr>\n",
       "    <tr>\n",
       "      <th>4</th>\n",
       "      <td>clementfarabet</td>\n",
       "      <td>sys   Has moved to a more community friendly  ...</td>\n",
       "    </tr>\n",
       "    <tr>\n",
       "      <th>5</th>\n",
       "      <td>ajabri</td>\n",
       "      <td>pytorch maml   This is a PyTorch implementatio...</td>\n",
       "    </tr>\n",
       "    <tr>\n",
       "      <th>6</th>\n",
       "      <td>USERNAMES</td>\n",
       "      <td>READMES</td>\n",
       "    </tr>\n",
       "    <tr>\n",
       "      <th>7</th>\n",
       "      <td>coryf</td>\n",
       "      <td>homebrew   Personal homebrew formula Sudoku Cu...</td>\n",
       "    </tr>\n",
       "    <tr>\n",
       "      <th>8</th>\n",
       "      <td>jrodrigomg</td>\n",
       "      <td>SERVIDOR NODEJS PROYECTO 1  SISTEMAS OPERATIVO...</td>\n",
       "    </tr>\n",
       "    <tr>\n",
       "      <th>9</th>\n",
       "      <td>vascofernandes</td>\n",
       "      <td>CustomersVRPF   The project consists of two ma...</td>\n",
       "    </tr>\n",
       "    <tr>\n",
       "      <th>10</th>\n",
       "      <td>seba-1511</td>\n",
       "      <td>Arduino Chrono   An Arduino based chronometer ...</td>\n",
       "    </tr>\n",
       "    <tr>\n",
       "      <th>11</th>\n",
       "      <td>xiaozhuchacha</td>\n",
       "      <td>Code for CVPR 2016 Oral Paper   Inferring Forc...</td>\n",
       "    </tr>\n",
       "    <tr>\n",
       "      <th>12</th>\n",
       "      <td>bossjones</td>\n",
       "      <td>vagrant box add scarlettpi v1  Users malcolm d...</td>\n",
       "    </tr>\n",
       "    <tr>\n",
       "      <th>13</th>\n",
       "      <td>nik0spapp</td>\n",
       "      <td>authid    The attached MATLAB code implements ...</td>\n",
       "    </tr>\n",
       "    <tr>\n",
       "      <th>14</th>\n",
       "      <td>ematvey</td>\n",
       "      <td>NanoEngineer 1   CAD for design of molecular m...</td>\n",
       "    </tr>\n",
       "    <tr>\n",
       "      <th>15</th>\n",
       "      <td>keskarnitish</td>\n",
       "      <td>OBA   Author   Nitish Shirish Keskar   OBA  is...</td>\n",
       "    </tr>\n",
       "    <tr>\n",
       "      <th>16</th>\n",
       "      <td>jatrost</td>\n",
       "      <td>Development of this project has moved to the A...</td>\n",
       "    </tr>\n",
       "    <tr>\n",
       "      <th>17</th>\n",
       "      <td>shayanb</td>\n",
       "      <td>owght mdd   Model Driven Development Project  ...</td>\n",
       "    </tr>\n",
       "    <tr>\n",
       "      <th>18</th>\n",
       "      <td>SimonVilleneuve</td>\n",
       "      <td>simonvilleneuve github io</td>\n",
       "    </tr>\n",
       "    <tr>\n",
       "      <th>19</th>\n",
       "      <td>nicholas</td>\n",
       "      <td>pip install tensorflowjs  1 7 4   tensorflowjs...</td>\n",
       "    </tr>\n",
       "    <tr>\n",
       "      <th>20</th>\n",
       "      <td>devottam</td>\n",
       "      <td>Redditext   Extract text from URLs for reading...</td>\n",
       "    </tr>\n",
       "    <tr>\n",
       "      <th>21</th>\n",
       "      <td>skytreader</td>\n",
       "      <td>This is just a test GitHub project for me  Try...</td>\n",
       "    </tr>\n",
       "    <tr>\n",
       "      <th>22</th>\n",
       "      <td>squiddy</td>\n",
       "      <td>Gerrard   Styleguide generator   Generates a s...</td>\n",
       "    </tr>\n",
       "    <tr>\n",
       "      <th>23</th>\n",
       "      <td>tboquet</td>\n",
       "      <td>configs   dotfiles configurations okeydockey  ...</td>\n",
       "    </tr>\n",
       "    <tr>\n",
       "      <th>24</th>\n",
       "      <td>cameronbriar</td>\n",
       "      <td>Quotes   A place to store my quotes    Informa...</td>\n",
       "    </tr>\n",
       "    <tr>\n",
       "      <th>25</th>\n",
       "      <td>andyone</td>\n",
       "      <td>dotfiles   A set of zsh  git  tig  and tmux co...</td>\n",
       "    </tr>\n",
       "    <tr>\n",
       "      <th>26</th>\n",
       "      <td>jakerockland</td>\n",
       "      <td>Flock   Personalized suggestions of who to fol...</td>\n",
       "    </tr>\n",
       "    <tr>\n",
       "      <th>27</th>\n",
       "      <td>apaszke</td>\n",
       "      <td>console timestamp   It s a simple date formatt...</td>\n",
       "    </tr>\n",
       "    <tr>\n",
       "      <th>28</th>\n",
       "      <td>Jackneill</td>\n",
       "      <td>Go Micro          Go Micro is a framework for ...</td>\n",
       "    </tr>\n",
       "    <tr>\n",
       "      <th>29</th>\n",
       "      <td>WesleyyC</td>\n",
       "      <td>JavaScriptChat    This is a chat room program ...</td>\n",
       "    </tr>\n",
       "    <tr>\n",
       "      <th>30</th>\n",
       "      <td>neocxi</td>\n",
       "      <td>Greyjoy Octopress Theme   A simple white and g...</td>\n",
       "    </tr>\n",
       "  </tbody>\n",
       "</table>\n",
       "</div>"
      ],
      "text/plain": [
       "          USERNAMES                                            READMES\n",
       "0            alexbw  Sampling Inference for Bayesian HSMMs and HMMs...\n",
       "1           iassael  DEARanking   Proposing a hybrid DEA Polynomial...\n",
       "2     bshillingford  id3tag fix codehackathon2014   Team members  B...\n",
       "4    clementfarabet  sys   Has moved to a more community friendly  ...\n",
       "5            ajabri  pytorch maml   This is a PyTorch implementatio...\n",
       "6         USERNAMES                                            READMES\n",
       "7             coryf  homebrew   Personal homebrew formula Sudoku Cu...\n",
       "8        jrodrigomg  SERVIDOR NODEJS PROYECTO 1  SISTEMAS OPERATIVO...\n",
       "9    vascofernandes  CustomersVRPF   The project consists of two ma...\n",
       "10        seba-1511  Arduino Chrono   An Arduino based chronometer ...\n",
       "11    xiaozhuchacha  Code for CVPR 2016 Oral Paper   Inferring Forc...\n",
       "12        bossjones  vagrant box add scarlettpi v1  Users malcolm d...\n",
       "13        nik0spapp  authid    The attached MATLAB code implements ...\n",
       "14          ematvey  NanoEngineer 1   CAD for design of molecular m...\n",
       "15     keskarnitish  OBA   Author   Nitish Shirish Keskar   OBA  is...\n",
       "16          jatrost  Development of this project has moved to the A...\n",
       "17          shayanb  owght mdd   Model Driven Development Project  ...\n",
       "18  SimonVilleneuve                          simonvilleneuve github io\n",
       "19         nicholas  pip install tensorflowjs  1 7 4   tensorflowjs...\n",
       "20         devottam  Redditext   Extract text from URLs for reading...\n",
       "21       skytreader  This is just a test GitHub project for me  Try...\n",
       "22          squiddy  Gerrard   Styleguide generator   Generates a s...\n",
       "23          tboquet  configs   dotfiles configurations okeydockey  ...\n",
       "24     cameronbriar  Quotes   A place to store my quotes    Informa...\n",
       "25          andyone  dotfiles   A set of zsh  git  tig  and tmux co...\n",
       "26     jakerockland  Flock   Personalized suggestions of who to fol...\n",
       "27          apaszke  console timestamp   It s a simple date formatt...\n",
       "28        Jackneill  Go Micro          Go Micro is a framework for ...\n",
       "29         WesleyyC  JavaScriptChat    This is a chat room program ...\n",
       "30           neocxi  Greyjoy Octopress Theme   A simple white and g..."
      ]
     },
     "execution_count": 40,
     "metadata": {},
     "output_type": "execute_result"
    }
   ],
   "source": [
    "df = pd.read_csv(\"../user_data_csv/csv_readme_per_user.csv\")\n",
    "df.head(2)\n",
    "df['READMES'] = df['READMES'].str.replace('[^a-zA-Z0-9]', ' ', regex=True).str.strip()\n",
    "df = df.dropna()\n",
    "df[\"READMES\"]=df[\"READMES\"].apply(str)\n",
    "df.to_csv(\"test.csv\")\n",
    "df.head(30)"
   ]
  },
  {
   "cell_type": "code",
   "execution_count": 44,
   "metadata": {},
   "outputs": [
    {
     "data": {
      "text/plain": [
       "(87, 352518)"
      ]
     },
     "execution_count": 44,
     "metadata": {},
     "output_type": "execute_result"
    }
   ],
   "source": [
    "tf = TfidfVectorizer(analyzer='word', ngram_range=(1, 3), min_df=0, stop_words='english')\n",
    "tfidf_matrix = tf.fit_transform(df['READMES'])\n",
    "tfidf_matrix.shape"
   ]
  },
  {
   "cell_type": "code",
   "execution_count": 45,
   "metadata": {},
   "outputs": [],
   "source": [
    "cosine_similarities = linear_kernel(tfidf_matrix, tfidf_matrix)"
   ]
  },
  {
   "cell_type": "code",
   "execution_count": 46,
   "metadata": {},
   "outputs": [],
   "source": [
    "results = {}"
   ]
  },
  {
   "cell_type": "code",
   "execution_count": null,
   "metadata": {},
   "outputs": [],
   "source": []
  },
  {
   "cell_type": "code",
   "execution_count": 47,
   "metadata": {},
   "outputs": [
    {
     "ename": "IndexError",
     "evalue": "only integers, slices (`:`), ellipsis (`...`), numpy.newaxis (`None`) and integer or boolean arrays are valid indices",
     "output_type": "error",
     "traceback": [
      "\u001b[0;31m---------------------------------------------------------------------------\u001b[0m",
      "\u001b[0;31mIndexError\u001b[0m                                Traceback (most recent call last)",
      "\u001b[1;32m/Users/myasin/Documents/thesis/project/backend/recommender_system/test.ipynb Cell 8\u001b[0m in \u001b[0;36m<cell line: 1>\u001b[0;34m()\u001b[0m\n\u001b[1;32m      <a href='vscode-notebook-cell:/Users/myasin/Documents/thesis/project/backend/recommender_system/test.ipynb#W6sZmlsZQ%3D%3D?line=0'>1</a>\u001b[0m \u001b[39mfor\u001b[39;00m username, readme \u001b[39min\u001b[39;00m df\u001b[39m.\u001b[39mitertuples(index\u001b[39m=\u001b[39m\u001b[39mFalse\u001b[39;00m):\n\u001b[0;32m----> <a href='vscode-notebook-cell:/Users/myasin/Documents/thesis/project/backend/recommender_system/test.ipynb#W6sZmlsZQ%3D%3D?line=1'>2</a>\u001b[0m     similar_indices \u001b[39m=\u001b[39m cosine_similarities[username]\u001b[39m.\u001b[39margsort()[:\u001b[39m-\u001b[39m\u001b[39m100\u001b[39m:\u001b[39m-\u001b[39m\u001b[39m1\u001b[39m]\n\u001b[1;32m      <a href='vscode-notebook-cell:/Users/myasin/Documents/thesis/project/backend/recommender_system/test.ipynb#W6sZmlsZQ%3D%3D?line=2'>3</a>\u001b[0m     similar_items \u001b[39m=\u001b[39m [(cosine_similarities[username][i], df[\u001b[39m'\u001b[39m\u001b[39mUSERNAMES\u001b[39m\u001b[39m'\u001b[39m][i]) \u001b[39mfor\u001b[39;00m i \u001b[39min\u001b[39;00m similar_indices]\n\u001b[1;32m      <a href='vscode-notebook-cell:/Users/myasin/Documents/thesis/project/backend/recommender_system/test.ipynb#W6sZmlsZQ%3D%3D?line=4'>5</a>\u001b[0m     results[df[\u001b[39m'\u001b[39m\u001b[39mUSERNAMES\u001b[39m\u001b[39m'\u001b[39m]] \u001b[39m=\u001b[39m similar_items[\u001b[39m1\u001b[39m:]\n",
      "\u001b[0;31mIndexError\u001b[0m: only integers, slices (`:`), ellipsis (`...`), numpy.newaxis (`None`) and integer or boolean arrays are valid indices"
     ]
    }
   ],
   "source": [
    "for username, readme in df.itertuples(index=False):\n",
    "    similar_indices = cosine_similarities[username].argsort()[:-100:-1]\n",
    "    similar_items = [(cosine_similarities[username][i], df['USERNAMES'][i]) for i in similar_indices]\n",
    "\n",
    "    results[df['USERNAMES']] = similar_items[1:]\n",
    "    \n",
    "print('done!')"
   ]
  },
  {
   "cell_type": "code",
   "execution_count": null,
   "metadata": {},
   "outputs": [],
   "source": []
  },
  {
   "cell_type": "code",
   "execution_count": 8,
   "metadata": {},
   "outputs": [],
   "source": [
    "def item(id):\n",
    "    return ds.loc[ds['id'] == id]['description'].tolist()[0].split(' - ')[0]"
   ]
  },
  {
   "cell_type": "code",
   "execution_count": null,
   "metadata": {},
   "outputs": [],
   "source": []
  },
  {
   "cell_type": "code",
   "execution_count": null,
   "metadata": {},
   "outputs": [],
   "source": []
  }
 ],
 "metadata": {
  "kernelspec": {
   "display_name": "Python 3.10.4 ('thesis')",
   "language": "python",
   "name": "python3"
  },
  "language_info": {
   "codemirror_mode": {
    "name": "ipython",
    "version": 3
   },
   "file_extension": ".py",
   "mimetype": "text/x-python",
   "name": "python",
   "nbconvert_exporter": "python",
   "pygments_lexer": "ipython3",
   "version": "3.10.4"
  },
  "orig_nbformat": 4,
  "vscode": {
   "interpreter": {
    "hash": "474cabef28ef5f39850ae0283db27a2b2b64f747313c5bcb210a7b2692fe8216"
   }
  }
 },
 "nbformat": 4,
 "nbformat_minor": 2
}
