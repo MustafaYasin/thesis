{
 "cells": [
  {
   "cell_type": "code",
   "execution_count": 1,
   "metadata": {},
   "outputs": [],
   "source": [
    "import pandas as pd\n",
    "from sklearn.feature_extraction.text import TfidfVectorizer\n",
    "from sklearn.metrics.pairwise import linear_kernel\n",
    "import numpy as np"
   ]
  },
  {
   "cell_type": "code",
   "execution_count": 4,
   "metadata": {},
   "outputs": [
    {
     "data": {
      "text/html": [
       "<div>\n",
       "<style scoped>\n",
       "    .dataframe tbody tr th:only-of-type {\n",
       "        vertical-align: middle;\n",
       "    }\n",
       "\n",
       "    .dataframe tbody tr th {\n",
       "        vertical-align: top;\n",
       "    }\n",
       "\n",
       "    .dataframe thead th {\n",
       "        text-align: right;\n",
       "    }\n",
       "</style>\n",
       "<table border=\"1\" class=\"dataframe\">\n",
       "  <thead>\n",
       "    <tr style=\"text-align: right;\">\n",
       "      <th></th>\n",
       "      <th>0</th>\n",
       "      <th>1</th>\n",
       "      <th>2</th>\n",
       "      <th>3</th>\n",
       "      <th>4</th>\n",
       "      <th>5</th>\n",
       "      <th>6</th>\n",
       "      <th>7</th>\n",
       "      <th>8</th>\n",
       "      <th>9</th>\n",
       "      <th>...</th>\n",
       "      <th>3493</th>\n",
       "      <th>3494</th>\n",
       "      <th>3495</th>\n",
       "      <th>3496</th>\n",
       "      <th>3497</th>\n",
       "      <th>3498</th>\n",
       "      <th>3499</th>\n",
       "      <th>3500</th>\n",
       "      <th>3501</th>\n",
       "      <th>3502</th>\n",
       "    </tr>\n",
       "  </thead>\n",
       "  <tbody>\n",
       "    <tr>\n",
       "      <th>0</th>\n",
       "      <td>bmccann</td>\n",
       "      <td>['party_predictor \\n A repo for a CS 229 final...</td>\n",
       "      <td>'pytorch-xla-transformer-language-model \\n Th...</td>\n",
       "      <td>and is not intended to be used for training a...</td>\n",
       "      <td>this code triggered recompilation far too often</td>\n",
       "      <td>but these issues have now been resolved.  \\n ...</td>\n",
       "      <td>NaN</td>\n",
       "      <td>NaN</td>\n",
       "      <td>NaN</td>\n",
       "      <td>NaN</td>\n",
       "      <td>...</td>\n",
       "      <td>NaN</td>\n",
       "      <td>NaN</td>\n",
       "      <td>NaN</td>\n",
       "      <td>NaN</td>\n",
       "      <td>NaN</td>\n",
       "      <td>NaN</td>\n",
       "      <td>NaN</td>\n",
       "      <td>NaN</td>\n",
       "      <td>NaN</td>\n",
       "      <td>NaN</td>\n",
       "    </tr>\n",
       "    <tr>\n",
       "      <th>1</th>\n",
       "      <td>fmassa</td>\n",
       "      <td>['torch-nn \\n Additional functionnalities for ...</td>\n",
       "      <td>'imagine-nn \\n Universite Paris-Est Marne-la-...</td>\n",
       "      <td>kH</td>\n",
       "      <td>dW</td>\n",
       "      <td>dH)\\ninn.SpatialAveragePooling(kW</td>\n",
       "      <td>kH</td>\n",
       "      <td>dW</td>\n",
       "      <td>dH)\\ninn.SpatialCrossResponseNormalization(size</td>\n",
       "      <td>[alpha = 0.0001]</td>\n",
       "      <td>...</td>\n",
       "      <td>NaN</td>\n",
       "      <td>NaN</td>\n",
       "      <td>NaN</td>\n",
       "      <td>NaN</td>\n",
       "      <td>NaN</td>\n",
       "      <td>NaN</td>\n",
       "      <td>NaN</td>\n",
       "      <td>NaN</td>\n",
       "      <td>NaN</td>\n",
       "      <td>NaN</td>\n",
       "    </tr>\n",
       "    <tr>\n",
       "      <th>2</th>\n",
       "      <td>edouardelasalles</td>\n",
       "      <td>['Spatio-Temporal Neural Networks for Space-Ti...</td>\n",
       "      <td>and the 41 columns are the 41 space points.\\n...</td>\n",
       "      <td>where  A(i</td>\n",
       "      <td>j)  = 1 means that series  i  is a direct nei...</td>\n",
       "      <td>and is 0 otherwise.'</td>\n",
       "      <td>'Dynamic Neural Language Models \\n Code and s...</td>\n",
       "      <td>'Dynamic Author Representation \\n Official im...</td>\n",
       "      <td>Sylvain Lamprier</td>\n",
       "      <td>Ludovic Denoyer \\n IEEE International Confere...</td>\n",
       "      <td>...</td>\n",
       "      <td>NaN</td>\n",
       "      <td>NaN</td>\n",
       "      <td>NaN</td>\n",
       "      <td>NaN</td>\n",
       "      <td>NaN</td>\n",
       "      <td>NaN</td>\n",
       "      <td>NaN</td>\n",
       "      <td>NaN</td>\n",
       "      <td>NaN</td>\n",
       "      <td>NaN</td>\n",
       "    </tr>\n",
       "    <tr>\n",
       "      <th>3</th>\n",
       "      <td>edouardoyallon</td>\n",
       "      <td>[\"ScatNetLight v0.1 - June 2015 \\n ScatNetLigh...</td>\n",
       "      <td>Edouard Oyallon</td>\n",
       "      <td>Stéphane Mallat</td>\n",
       "      <td>accepted to CVPR 2015</td>\n",
       "      <td>http://arxiv.org/abs/1412.8659 \\n Author cont...</td>\n",
       "      <td>edouard.oyallon@ens.fr\\nContributor: Matthew ...</td>\n",
       "      <td>matthew.hirn@ens.fr \\n Install ScatNetLight +...</td>\n",
       "      <td>'create_config_caltech_256'</td>\n",
       "      <td>'create_config_cifar_10' and 'create_config_c...</td>\n",
       "      <td>...</td>\n",
       "      <td>NaN</td>\n",
       "      <td>NaN</td>\n",
       "      <td>NaN</td>\n",
       "      <td>NaN</td>\n",
       "      <td>NaN</td>\n",
       "      <td>NaN</td>\n",
       "      <td>NaN</td>\n",
       "      <td>NaN</td>\n",
       "      <td>NaN</td>\n",
       "      <td>NaN</td>\n",
       "    </tr>\n",
       "    <tr>\n",
       "      <th>4</th>\n",
       "      <td>SeanNaren</td>\n",
       "      <td>[\"deepspeech.torch \\n \\n \\n Implementation of ...</td>\n",
       "      <td>trained with the CTC activation function. \\n ...</td>\n",
       "      <td>Master and Phoneme:\\n* Master: This branch tr...</td>\n",
       "      <td>as well as a prediction script.\\nThis branch ...</td>\n",
       "      <td>you can start training from these nets by usi...</td>\n",
       "      <td>Yuan Yang and Yan Xia for their significant c...</td>\n",
       "      <td>multi-gpu support and many other important fe...</td>\n",
       "      <td>and the encouraging words and support given t...</td>\n",
       "      <td>\"QlearningExample.torch \\n \\n Torch plays cat...</td>\n",
       "      <td>...</td>\n",
       "      <td>NaN</td>\n",
       "      <td>NaN</td>\n",
       "      <td>NaN</td>\n",
       "      <td>NaN</td>\n",
       "      <td>NaN</td>\n",
       "      <td>NaN</td>\n",
       "      <td>NaN</td>\n",
       "      <td>NaN</td>\n",
       "      <td>NaN</td>\n",
       "      <td>NaN</td>\n",
       "    </tr>\n",
       "  </tbody>\n",
       "</table>\n",
       "<p>5 rows × 3503 columns</p>\n",
       "</div>"
      ],
      "text/plain": [
       "               0                                                  1     \\\n",
       "0           bmccann  ['party_predictor \\n A repo for a CS 229 final...   \n",
       "1            fmassa  ['torch-nn \\n Additional functionnalities for ...   \n",
       "2  edouardelasalles  ['Spatio-Temporal Neural Networks for Space-Ti...   \n",
       "3    edouardoyallon  [\"ScatNetLight v0.1 - June 2015 \\n ScatNetLigh...   \n",
       "4         SeanNaren  [\"deepspeech.torch \\n \\n \\n Implementation of ...   \n",
       "\n",
       "                                                2     \\\n",
       "0   'pytorch-xla-transformer-language-model \\n Th...   \n",
       "1   'imagine-nn \\n Universite Paris-Est Marne-la-...   \n",
       "2   and the 41 columns are the 41 space points.\\n...   \n",
       "3                                    Edouard Oyallon   \n",
       "4   trained with the CTC activation function. \\n ...   \n",
       "\n",
       "                                                3     \\\n",
       "0   and is not intended to be used for training a...   \n",
       "1                                                 kH   \n",
       "2                                         where  A(i   \n",
       "3                                    Stéphane Mallat   \n",
       "4   Master and Phoneme:\\n* Master: This branch tr...   \n",
       "\n",
       "                                                4     \\\n",
       "0    this code triggered recompilation far too often   \n",
       "1                                                 dW   \n",
       "2   j)  = 1 means that series  i  is a direct nei...   \n",
       "3                              accepted to CVPR 2015   \n",
       "4   as well as a prediction script.\\nThis branch ...   \n",
       "\n",
       "                                                5     \\\n",
       "0   but these issues have now been resolved.  \\n ...   \n",
       "1                  dH)\\ninn.SpatialAveragePooling(kW   \n",
       "2                               and is 0 otherwise.'   \n",
       "3   http://arxiv.org/abs/1412.8659 \\n Author cont...   \n",
       "4   you can start training from these nets by usi...   \n",
       "\n",
       "                                                6     \\\n",
       "0                                                NaN   \n",
       "1                                                 kH   \n",
       "2   'Dynamic Neural Language Models \\n Code and s...   \n",
       "3   edouard.oyallon@ens.fr\\nContributor: Matthew ...   \n",
       "4   Yuan Yang and Yan Xia for their significant c...   \n",
       "\n",
       "                                                7     \\\n",
       "0                                                NaN   \n",
       "1                                                 dW   \n",
       "2   'Dynamic Author Representation \\n Official im...   \n",
       "3   matthew.hirn@ens.fr \\n Install ScatNetLight +...   \n",
       "4   multi-gpu support and many other important fe...   \n",
       "\n",
       "                                                8     \\\n",
       "0                                                NaN   \n",
       "1    dH)\\ninn.SpatialCrossResponseNormalization(size   \n",
       "2                                   Sylvain Lamprier   \n",
       "3                        'create_config_caltech_256'   \n",
       "4   and the encouraging words and support given t...   \n",
       "\n",
       "                                                9     ... 3493 3494 3495 3496  \\\n",
       "0                                                NaN  ...  NaN  NaN  NaN  NaN   \n",
       "1                                   [alpha = 0.0001]  ...  NaN  NaN  NaN  NaN   \n",
       "2   Ludovic Denoyer \\n IEEE International Confere...  ...  NaN  NaN  NaN  NaN   \n",
       "3   'create_config_cifar_10' and 'create_config_c...  ...  NaN  NaN  NaN  NaN   \n",
       "4   \"QlearningExample.torch \\n \\n Torch plays cat...  ...  NaN  NaN  NaN  NaN   \n",
       "\n",
       "  3497 3498 3499 3500 3501 3502  \n",
       "0  NaN  NaN  NaN  NaN  NaN  NaN  \n",
       "1  NaN  NaN  NaN  NaN  NaN  NaN  \n",
       "2  NaN  NaN  NaN  NaN  NaN  NaN  \n",
       "3  NaN  NaN  NaN  NaN  NaN  NaN  \n",
       "4  NaN  NaN  NaN  NaN  NaN  NaN  \n",
       "\n",
       "[5 rows x 3503 columns]"
      ]
     },
     "execution_count": 4,
     "metadata": {},
     "output_type": "execute_result"
    }
   ],
   "source": [
    "### Loop the data lines\n",
    "with open(\"../user_data_csv/recommendation_readme.csv\", 'r') as temp_f:\n",
    "    # get No of columns in each line\n",
    "    col_count = [ len(l.split(\",\")) for l in temp_f.readlines() ]\n",
    "\n",
    "### Generate column names  (names will be 0, 1, 2, ..., maximum columns - 1)\n",
    "column_names = [i for i in range(0, max(col_count))]\n",
    "\n",
    "### Read csv\n",
    "df = pd.read_csv(\"../user_data_csv/recommendation_readme.csv\", header=None, delimiter=\",\", names=column_names)\n",
    "df.head()"
   ]
  },
  {
   "cell_type": "code",
   "execution_count": 7,
   "metadata": {},
   "outputs": [
    {
     "ename": "TypeError",
     "evalue": "'Index' object is not callable",
     "output_type": "error",
     "traceback": [
      "\u001b[0;31m---------------------------------------------------------------------------\u001b[0m",
      "\u001b[0;31mTypeError\u001b[0m                                 Traceback (most recent call last)",
      "\u001b[1;32m/Users/myasin/Documents/thesis/project/backend/recommender_system/tdf_if.ipynb Cell 3\u001b[0m in \u001b[0;36m<cell line: 3>\u001b[0;34m()\u001b[0m\n\u001b[1;32m      <a href='vscode-notebook-cell:/Users/myasin/Documents/thesis/project/backend/recommender_system/tdf_if.ipynb#X21sZmlsZQ%3D%3D?line=0'>1</a>\u001b[0m COLUMN_NAMES\u001b[39m=\u001b[39m[\u001b[39m'\u001b[39m\u001b[39mUSERNAME\u001b[39m\u001b[39m'\u001b[39m,\u001b[39m'\u001b[39m\u001b[39mREADME\u001b[39m\u001b[39m'\u001b[39m]\n\u001b[1;32m      <a href='vscode-notebook-cell:/Users/myasin/Documents/thesis/project/backend/recommender_system/tdf_if.ipynb#X21sZmlsZQ%3D%3D?line=1'>2</a>\u001b[0m df_username_readme \u001b[39m=\u001b[39m pd\u001b[39m.\u001b[39mDataFrame(columns\u001b[39m=\u001b[39mCOLUMN_NAMES)\n\u001b[0;32m----> <a href='vscode-notebook-cell:/Users/myasin/Documents/thesis/project/backend/recommender_system/tdf_if.ipynb#X21sZmlsZQ%3D%3D?line=2'>3</a>\u001b[0m df_username_readme\u001b[39m.\u001b[39;49mcolumns()\n",
      "\u001b[0;31mTypeError\u001b[0m: 'Index' object is not callable"
     ]
    }
   ],
   "source": [
    "COLUMN_NAMES=['USERNAME','README']\n",
    "df_username_readme = pd.DataFrame(columns=COLUMN_NAMES)\n",
    "df_username_readme.columns\n"
   ]
  },
  {
   "cell_type": "code",
   "execution_count": null,
   "metadata": {},
   "outputs": [],
   "source": []
  },
  {
   "cell_type": "code",
   "execution_count": null,
   "metadata": {},
   "outputs": [],
   "source": []
  },
  {
   "cell_type": "code",
   "execution_count": null,
   "metadata": {},
   "outputs": [],
   "source": []
  },
  {
   "cell_type": "code",
   "execution_count": 89,
   "metadata": {},
   "outputs": [
    {
     "name": "stderr",
     "output_type": "stream",
     "text": [
      "/var/folders/ml/8_bkc7k91cb777tm6mxkvfbc0000gn/T/ipykernel_42112/525773181.py:2: SettingWithCopyWarning: \n",
      "A value is trying to be set on a copy of a slice from a DataFrame.\n",
      "Try using .loc[row_indexer,col_indexer] = value instead\n",
      "\n",
      "See the caveats in the documentation: https://pandas.pydata.org/pandas-docs/stable/user_guide/indexing.html#returning-a-view-versus-a-copy\n",
      "  df_tfidf['id'] = df_tfidf.index\n"
     ]
    },
    {
     "data": {
      "text/html": [
       "<div>\n",
       "<style scoped>\n",
       "    .dataframe tbody tr th:only-of-type {\n",
       "        vertical-align: middle;\n",
       "    }\n",
       "\n",
       "    .dataframe tbody tr th {\n",
       "        vertical-align: top;\n",
       "    }\n",
       "\n",
       "    .dataframe thead th {\n",
       "        text-align: right;\n",
       "    }\n",
       "</style>\n",
       "<table border=\"1\" class=\"dataframe\">\n",
       "  <thead>\n",
       "    <tr style=\"text-align: right;\">\n",
       "      <th></th>\n",
       "      <th>id</th>\n",
       "      <th>bio</th>\n",
       "    </tr>\n",
       "  </thead>\n",
       "  <tbody>\n",
       "    <tr>\n",
       "      <th>0</th>\n",
       "      <td>0</td>\n",
       "      <td>NaN</td>\n",
       "    </tr>\n",
       "    <tr>\n",
       "      <th>1</th>\n",
       "      <td>1</td>\n",
       "      <td>Research Scientist</td>\n",
       "    </tr>\n",
       "    <tr>\n",
       "      <th>2</th>\n",
       "      <td>2</td>\n",
       "      <td>NaN</td>\n",
       "    </tr>\n",
       "    <tr>\n",
       "      <th>3</th>\n",
       "      <td>3</td>\n",
       "      <td>NaN</td>\n",
       "    </tr>\n",
       "    <tr>\n",
       "      <th>4</th>\n",
       "      <td>4</td>\n",
       "      <td>NaN</td>\n",
       "    </tr>\n",
       "  </tbody>\n",
       "</table>\n",
       "</div>"
      ],
      "text/plain": [
       "   id                 bio\n",
       "0   0                 NaN\n",
       "1   1  Research Scientist\n",
       "2   2                 NaN\n",
       "3   3                 NaN\n",
       "4   4                 NaN"
      ]
     },
     "execution_count": 89,
     "metadata": {},
     "output_type": "execute_result"
    }
   ],
   "source": [
    "df_tfidf = df[['bio']]\n",
    "df_tfidf['id'] = df_tfidf.index\n",
    "df_tfidf = df_tfidf[['id','bio']]\n",
    "df_tfidf.head()"
   ]
  },
  {
   "cell_type": "code",
   "execution_count": 90,
   "metadata": {},
   "outputs": [
    {
     "data": {
      "text/plain": [
       "(300, 1542)"
      ]
     },
     "execution_count": 90,
     "metadata": {},
     "output_type": "execute_result"
    }
   ],
   "source": [
    "tf = TfidfVectorizer(analyzer='word', ngram_range=(1, 3), min_df=0, stop_words='english')\n",
    "tfidf_matrix = tf.fit_transform(df_tfidf['bio'].values.astype('U'))\n",
    "tfidf_matrix.shape"
   ]
  },
  {
   "cell_type": "code",
   "execution_count": 91,
   "metadata": {},
   "outputs": [],
   "source": [
    "cosine_similarities = linear_kernel(tfidf_matrix, tfidf_matrix)\n",
    "results = {}"
   ]
  },
  {
   "cell_type": "code",
   "execution_count": null,
   "metadata": {},
   "outputs": [],
   "source": []
  },
  {
   "cell_type": "code",
   "execution_count": 99,
   "metadata": {},
   "outputs": [
    {
     "name": "stdout",
     "output_type": "stream",
     "text": [
      "done!\n"
     ]
    }
   ],
   "source": [
    "for idx, row in df_tfidf.iterrows():\n",
    "    similar_indices = cosine_similarities[idx].argsort()[:-100:-1]\n",
    "    similar_items = [(cosine_similarities[idx][i], df_tfidf['id'][i]) for i in similar_indices]\n",
    "    results[row['id']] = similar_items[1:]\n",
    "\n",
    "print('done!')"
   ]
  },
  {
   "cell_type": "code",
   "execution_count": 100,
   "metadata": {},
   "outputs": [],
   "source": [
    "def item(id):\n",
    "    return df_tfidf.loc[df_tfidf['id'] == id]['bio'].tolist()[0].split(' - ')[0]"
   ]
  },
  {
   "cell_type": "code",
   "execution_count": 101,
   "metadata": {},
   "outputs": [
    {
     "name": "stdout",
     "output_type": "stream",
     "text": [
      "Recommending 5 products similar to Researcher @NVIDIA, Formerly Mila | CMU | MSR | FAIR | Element AI...\n",
      "-------\n",
      "Recommended: Research Scientist at FAIR\n",
      " (score:0.08801818621803285)\n",
      "Recommended: Research Scientist in Meta AI Research (FAIR) (score:0.07802597074875811)\n",
      "Recommended: Researcher Machine Learning and Vision at Concordia U/MILA/UdeM (score:0.07555146609620625)\n",
      "Recommended: @scoutapp-ai  (score:0.06275448039732234)\n",
      "Recommended: covariant.ai (score:0.06275448039732234)\n"
     ]
    }
   ],
   "source": [
    "def recommend(item_id, num):\n",
    "    print(\"Recommending \" + str(num) + \" products similar to \" + item(item_id) + \"...\")\n",
    "    print(\"-------\")\n",
    "    recs = results[item_id][:num]\n",
    "    for rec in recs:\n",
    "        print(\"Recommended: \" + item(rec[1]) + \" (score:\" + str(rec[0]) + \")\")\n",
    "\n",
    "recommend(item_id=11, num=5)"
   ]
  },
  {
   "cell_type": "code",
   "execution_count": null,
   "metadata": {},
   "outputs": [],
   "source": []
  },
  {
   "cell_type": "code",
   "execution_count": null,
   "metadata": {},
   "outputs": [],
   "source": []
  }
 ],
 "metadata": {
  "kernelspec": {
   "display_name": "Python 3.10.4 ('thesis')",
   "language": "python",
   "name": "python3"
  },
  "language_info": {
   "codemirror_mode": {
    "name": "ipython",
    "version": 3
   },
   "file_extension": ".py",
   "mimetype": "text/x-python",
   "name": "python",
   "nbconvert_exporter": "python",
   "pygments_lexer": "ipython3",
   "version": "3.10.4"
  },
  "orig_nbformat": 4,
  "vscode": {
   "interpreter": {
    "hash": "474cabef28ef5f39850ae0283db27a2b2b64f747313c5bcb210a7b2692fe8216"
   }
  }
 },
 "nbformat": 4,
 "nbformat_minor": 2
}
