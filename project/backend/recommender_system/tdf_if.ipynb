{
 "cells": [
  {
   "cell_type": "code",
   "execution_count": 15,
   "metadata": {},
   "outputs": [],
   "source": [
    "import pandas as pd\n",
    "from sklearn.feature_extraction.text import TfidfVectorizer\n",
    "from sklearn.metrics.pairwise import linear_kernel\n",
    "import numpy as np"
   ]
  },
  {
   "cell_type": "code",
   "execution_count": null,
   "metadata": {},
   "outputs": [],
   "source": []
  },
  {
   "cell_type": "code",
   "execution_count": null,
   "metadata": {},
   "outputs": [],
   "source": []
  },
  {
   "cell_type": "code",
   "execution_count": 28,
   "metadata": {},
   "outputs": [
    {
     "data": {
      "text/html": [
       "<div>\n",
       "<style scoped>\n",
       "    .dataframe tbody tr th:only-of-type {\n",
       "        vertical-align: middle;\n",
       "    }\n",
       "\n",
       "    .dataframe tbody tr th {\n",
       "        vertical-align: top;\n",
       "    }\n",
       "\n",
       "    .dataframe thead th {\n",
       "        text-align: right;\n",
       "    }\n",
       "</style>\n",
       "<table border=\"1\" class=\"dataframe\">\n",
       "  <thead>\n",
       "    <tr style=\"text-align: right;\">\n",
       "      <th></th>\n",
       "      <th>username</th>\n",
       "      <th>fullName</th>\n",
       "      <th>bio</th>\n",
       "      <th>email</th>\n",
       "      <th>repository_count</th>\n",
       "      <th>company</th>\n",
       "      <th>avatar_url</th>\n",
       "      <th>isHireable</th>\n",
       "      <th>star_time</th>\n",
       "      <th>followers</th>\n",
       "      <th>...</th>\n",
       "      <th>isDeveloperProgramMember</th>\n",
       "      <th>isSiteAdmin</th>\n",
       "      <th>isViewer</th>\n",
       "      <th>anyPinnableItems</th>\n",
       "      <th>viewerIsFollowing</th>\n",
       "      <th>sponsors</th>\n",
       "      <th>primary_language</th>\n",
       "      <th>yearsofExperience</th>\n",
       "      <th>location</th>\n",
       "      <th>domainofExpertise</th>\n",
       "    </tr>\n",
       "  </thead>\n",
       "  <tbody>\n",
       "    <tr>\n",
       "      <th>0</th>\n",
       "      <td>alexbw</td>\n",
       "      <td>Alex Wiltschko</td>\n",
       "      <td>NaN</td>\n",
       "      <td>alex.bw@gmail.com</td>\n",
       "      <td>47</td>\n",
       "      <td>Google</td>\n",
       "      <td>https://avatars.githubusercontent.com/u/161935...</td>\n",
       "      <td>False</td>\n",
       "      <td>2016-08-15 18:39:55</td>\n",
       "      <td>396</td>\n",
       "      <td>...</td>\n",
       "      <td>False</td>\n",
       "      <td>False</td>\n",
       "      <td>True</td>\n",
       "      <td>False</td>\n",
       "      <td>0</td>\n",
       "      <td>{'C': 5, 'Objective-C': 5, 'C++': 1, 'Python':...</td>\n",
       "      <td>9</td>\n",
       "      <td>Boston, MA</td>\n",
       "      <td>Data Science</td>\n",
       "      <td>NaN</td>\n",
       "    </tr>\n",
       "    <tr>\n",
       "      <th>1</th>\n",
       "      <td>iassael</td>\n",
       "      <td>Yannis Assael</td>\n",
       "      <td>Research Scientist</td>\n",
       "      <td>iassael@gmail.com</td>\n",
       "      <td>27</td>\n",
       "      <td>DeepMind</td>\n",
       "      <td>https://avatars.githubusercontent.com/u/216211...</td>\n",
       "      <td>True</td>\n",
       "      <td>2016-08-15 19:14:32</td>\n",
       "      <td>265</td>\n",
       "      <td>...</td>\n",
       "      <td>False</td>\n",
       "      <td>False</td>\n",
       "      <td>True</td>\n",
       "      <td>False</td>\n",
       "      <td>0</td>\n",
       "      <td>{'JavaScript': 1, 'Java': 2, 'PHP': 1, 'C': 1,...</td>\n",
       "      <td>3</td>\n",
       "      <td>London</td>\n",
       "      <td>Data Science</td>\n",
       "      <td>NaN</td>\n",
       "    </tr>\n",
       "    <tr>\n",
       "      <th>2</th>\n",
       "      <td>bshillingford</td>\n",
       "      <td>Brendan Shillingford</td>\n",
       "      <td>NaN</td>\n",
       "      <td>NaN</td>\n",
       "      <td>24</td>\n",
       "      <td>NaN</td>\n",
       "      <td>https://avatars.githubusercontent.com/u/232674...</td>\n",
       "      <td>False</td>\n",
       "      <td>2016-08-16 06:35:51</td>\n",
       "      <td>446</td>\n",
       "      <td>...</td>\n",
       "      <td>False</td>\n",
       "      <td>False</td>\n",
       "      <td>True</td>\n",
       "      <td>False</td>\n",
       "      <td>0</td>\n",
       "      <td>{'Python': 14, 'Lua': 7, 'CSS': 1, 'HTML': 1, ...</td>\n",
       "      <td>5</td>\n",
       "      <td>NaN</td>\n",
       "      <td>Data Modeling</td>\n",
       "      <td>NaN</td>\n",
       "    </tr>\n",
       "    <tr>\n",
       "      <th>3</th>\n",
       "      <td>hmansell</td>\n",
       "      <td>Howard Mansell</td>\n",
       "      <td>NaN</td>\n",
       "      <td>howard@mansells.us</td>\n",
       "      <td>0</td>\n",
       "      <td>Facebook</td>\n",
       "      <td>https://avatars.githubusercontent.com/u/980875...</td>\n",
       "      <td>False</td>\n",
       "      <td>2016-08-24 15:41:21</td>\n",
       "      <td>30</td>\n",
       "      <td>...</td>\n",
       "      <td>False</td>\n",
       "      <td>False</td>\n",
       "      <td>True</td>\n",
       "      <td>False</td>\n",
       "      <td>0</td>\n",
       "      <td>{}</td>\n",
       "      <td>2</td>\n",
       "      <td>New York</td>\n",
       "      <td>AI for Manufacturing</td>\n",
       "      <td>NaN</td>\n",
       "    </tr>\n",
       "    <tr>\n",
       "      <th>4</th>\n",
       "      <td>clementfarabet</td>\n",
       "      <td>Clement Farabet</td>\n",
       "      <td>NaN</td>\n",
       "      <td>clement.farabet@gmail.com</td>\n",
       "      <td>79</td>\n",
       "      <td>@NVIDIA</td>\n",
       "      <td>https://avatars.githubusercontent.com/u/188959...</td>\n",
       "      <td>False</td>\n",
       "      <td>2016-09-23 00:09:18</td>\n",
       "      <td>675</td>\n",
       "      <td>...</td>\n",
       "      <td>False</td>\n",
       "      <td>False</td>\n",
       "      <td>True</td>\n",
       "      <td>False</td>\n",
       "      <td>0</td>\n",
       "      <td>{'C': 18, 'Lua': 45, 'Shell': 2, 'C++': 3, 'PH...</td>\n",
       "      <td>5</td>\n",
       "      <td>San Francisco</td>\n",
       "      <td>Data Management</td>\n",
       "      <td>NaN</td>\n",
       "    </tr>\n",
       "  </tbody>\n",
       "</table>\n",
       "<p>5 rows × 28 columns</p>\n",
       "</div>"
      ],
      "text/plain": [
       "         username              fullName                 bio  \\\n",
       "0          alexbw        Alex Wiltschko                 NaN   \n",
       "1         iassael         Yannis Assael  Research Scientist   \n",
       "2   bshillingford  Brendan Shillingford                 NaN   \n",
       "3        hmansell        Howard Mansell                 NaN   \n",
       "4  clementfarabet       Clement Farabet                 NaN   \n",
       "\n",
       "                       email  repository_count   company  \\\n",
       "0          alex.bw@gmail.com                47    Google   \n",
       "1          iassael@gmail.com                27  DeepMind   \n",
       "2                        NaN                24       NaN   \n",
       "3         howard@mansells.us                 0  Facebook   \n",
       "4  clement.farabet@gmail.com                79  @NVIDIA    \n",
       "\n",
       "                                          avatar_url  isHireable  \\\n",
       "0  https://avatars.githubusercontent.com/u/161935...       False   \n",
       "1  https://avatars.githubusercontent.com/u/216211...        True   \n",
       "2  https://avatars.githubusercontent.com/u/232674...       False   \n",
       "3  https://avatars.githubusercontent.com/u/980875...       False   \n",
       "4  https://avatars.githubusercontent.com/u/188959...       False   \n",
       "\n",
       "             star_time  followers  ...  isDeveloperProgramMember  isSiteAdmin  \\\n",
       "0  2016-08-15 18:39:55        396  ...                     False        False   \n",
       "1  2016-08-15 19:14:32        265  ...                     False        False   \n",
       "2  2016-08-16 06:35:51        446  ...                     False        False   \n",
       "3  2016-08-24 15:41:21         30  ...                     False        False   \n",
       "4  2016-09-23 00:09:18        675  ...                     False        False   \n",
       "\n",
       "  isViewer anyPinnableItems viewerIsFollowing  \\\n",
       "0     True            False                 0   \n",
       "1     True            False                 0   \n",
       "2     True            False                 0   \n",
       "3     True            False                 0   \n",
       "4     True            False                 0   \n",
       "\n",
       "                                            sponsors  primary_language  \\\n",
       "0  {'C': 5, 'Objective-C': 5, 'C++': 1, 'Python':...                 9   \n",
       "1  {'JavaScript': 1, 'Java': 2, 'PHP': 1, 'C': 1,...                 3   \n",
       "2  {'Python': 14, 'Lua': 7, 'CSS': 1, 'HTML': 1, ...                 5   \n",
       "3                                                 {}                 2   \n",
       "4  {'C': 18, 'Lua': 45, 'Shell': 2, 'C++': 3, 'PH...                 5   \n",
       "\n",
       "   yearsofExperience              location  domainofExpertise  \n",
       "0         Boston, MA          Data Science                NaN  \n",
       "1             London          Data Science                NaN  \n",
       "2                NaN         Data Modeling                NaN  \n",
       "3           New York  AI for Manufacturing                NaN  \n",
       "4      San Francisco       Data Management                NaN  \n",
       "\n",
       "[5 rows x 28 columns]"
      ]
     },
     "execution_count": 28,
     "metadata": {},
     "output_type": "execute_result"
    }
   ],
   "source": [
    "df = pd.read_csv('../user_data_csv/pytorch_pytorch.csv')\n",
    "df.head()"
   ]
  },
  {
   "cell_type": "code",
   "execution_count": null,
   "metadata": {},
   "outputs": [],
   "source": []
  },
  {
   "cell_type": "code",
   "execution_count": null,
   "metadata": {},
   "outputs": [],
   "source": []
  },
  {
   "cell_type": "code",
   "execution_count": 25,
   "metadata": {},
   "outputs": [
    {
     "data": {
      "text/plain": [
       "['username',\n",
       " 'fullName',\n",
       " 'bio',\n",
       " 'email',\n",
       " 'repository_count',\n",
       " 'company',\n",
       " 'avatar_url',\n",
       " 'isHireable',\n",
       " 'star_time',\n",
       " 'followers',\n",
       " 'following',\n",
       " 'organizations',\n",
       " 'repositories',\n",
       " 'createdAt',\n",
       " 'updatedAt',\n",
       " 'twitterUsername',\n",
       " 'isGitHubStar',\n",
       " 'isCampusExpert',\n",
       " 'isDeveloperProgramMember',\n",
       " 'isSiteAdmin',\n",
       " 'isViewer',\n",
       " 'anyPinnableItems',\n",
       " 'viewerIsFollowing',\n",
       " 'sponsors',\n",
       " 'primary_language',\n",
       " 'yearsofExperience',\n",
       " 'location',\n",
       " 'domainofExpertise']"
      ]
     },
     "execution_count": 25,
     "metadata": {},
     "output_type": "execute_result"
    }
   ],
   "source": [
    "column_headers = list(df.columns.values)\n",
    "column_headers"
   ]
  },
  {
   "cell_type": "code",
   "execution_count": null,
   "metadata": {},
   "outputs": [],
   "source": []
  },
  {
   "cell_type": "code",
   "execution_count": null,
   "metadata": {},
   "outputs": [],
   "source": []
  },
  {
   "cell_type": "code",
   "execution_count": 17,
   "metadata": {},
   "outputs": [
    {
     "data": {
      "text/plain": [
       "(300, 1542)"
      ]
     },
     "execution_count": 17,
     "metadata": {},
     "output_type": "execute_result"
    }
   ],
   "source": [
    "tf = TfidfVectorizer(analyzer='word', ngram_range=(1, 3), min_df=0, stop_words='english')\n",
    "tfidf_matrix = tf.fit_transform(df['bio'].values.astype('U'))\n",
    "tfidf_matrix.shape"
   ]
  },
  {
   "cell_type": "code",
   "execution_count": 20,
   "metadata": {},
   "outputs": [],
   "source": [
    "cosine_similarities = linear_kernel(tfidf_matrix, tfidf_matrix)\n",
    "\n",
    "\n"
   ]
  },
  {
   "cell_type": "code",
   "execution_count": 21,
   "metadata": {},
   "outputs": [],
   "source": [
    "results = {}"
   ]
  },
  {
   "cell_type": "code",
   "execution_count": 26,
   "metadata": {},
   "outputs": [
    {
     "name": "stdout",
     "output_type": "stream",
     "text": [
      "this is idx and row 0 username                                                               alexbw\n",
      "fullName                                                       Alex Wiltschko\n",
      "bio                                                                       NaN\n",
      "email                                                       alex.bw@gmail.com\n",
      "repository_count                                                           47\n",
      "company                                                                Google\n",
      "avatar_url                  https://avatars.githubusercontent.com/u/161935...\n",
      "isHireable                                                              False\n",
      "star_time                                                 2016-08-15 18:39:55\n",
      "followers                                                                 396\n",
      "following                                                                 332\n",
      "organizations                                                               0\n",
      "repositories                                             2009-12-04T14:50:40Z\n",
      "createdAt                                                2022-08-23T18:31:52Z\n",
      "updatedAt                                                                 NaN\n",
      "twitterUsername                                                         False\n",
      "isGitHubStar                                                            False\n",
      "isCampusExpert                                                          False\n",
      "isDeveloperProgramMember                                                False\n",
      "isSiteAdmin                                                             False\n",
      "isViewer                                                                 True\n",
      "anyPinnableItems                                                        False\n",
      "viewerIsFollowing                                                           0\n",
      "sponsors                    {'C': 5, 'Objective-C': 5, 'C++': 1, 'Python':...\n",
      "primary_language                                                            9\n",
      "yearsofExperience                                                  Boston, MA\n",
      "location                                                         Data Science\n",
      "domainofExpertise                                                         NaN\n",
      "Name: 0, dtype: object\n"
     ]
    },
    {
     "ename": "KeyError",
     "evalue": "'id'",
     "output_type": "error",
     "traceback": [
      "\u001b[0;31m---------------------------------------------------------------------------\u001b[0m",
      "\u001b[0;31mKeyError\u001b[0m                                  Traceback (most recent call last)",
      "File \u001b[0;32m/opt/anaconda3/envs/thesis/lib/python3.10/site-packages/pandas/core/indexes/base.py:3800\u001b[0m, in \u001b[0;36mIndex.get_loc\u001b[0;34m(self, key, method, tolerance)\u001b[0m\n\u001b[1;32m   3799\u001b[0m \u001b[39mtry\u001b[39;00m:\n\u001b[0;32m-> 3800\u001b[0m     \u001b[39mreturn\u001b[39;00m \u001b[39mself\u001b[39;49m\u001b[39m.\u001b[39;49m_engine\u001b[39m.\u001b[39;49mget_loc(casted_key)\n\u001b[1;32m   3801\u001b[0m \u001b[39mexcept\u001b[39;00m \u001b[39mKeyError\u001b[39;00m \u001b[39mas\u001b[39;00m err:\n",
      "File \u001b[0;32m/opt/anaconda3/envs/thesis/lib/python3.10/site-packages/pandas/_libs/index.pyx:138\u001b[0m, in \u001b[0;36mpandas._libs.index.IndexEngine.get_loc\u001b[0;34m()\u001b[0m\n",
      "File \u001b[0;32m/opt/anaconda3/envs/thesis/lib/python3.10/site-packages/pandas/_libs/index.pyx:165\u001b[0m, in \u001b[0;36mpandas._libs.index.IndexEngine.get_loc\u001b[0;34m()\u001b[0m\n",
      "File \u001b[0;32mpandas/_libs/hashtable_class_helper.pxi:5745\u001b[0m, in \u001b[0;36mpandas._libs.hashtable.PyObjectHashTable.get_item\u001b[0;34m()\u001b[0m\n",
      "File \u001b[0;32mpandas/_libs/hashtable_class_helper.pxi:5753\u001b[0m, in \u001b[0;36mpandas._libs.hashtable.PyObjectHashTable.get_item\u001b[0;34m()\u001b[0m\n",
      "\u001b[0;31mKeyError\u001b[0m: 'id'",
      "\nThe above exception was the direct cause of the following exception:\n",
      "\u001b[0;31mKeyError\u001b[0m                                  Traceback (most recent call last)",
      "\u001b[1;32m/Users/myasin/Documents/thesis/project/backend/recommender_system/tdf_if.ipynb Cell 11\u001b[0m in \u001b[0;36m<cell line: 1>\u001b[0;34m()\u001b[0m\n\u001b[1;32m      <a href='vscode-notebook-cell:/Users/myasin/Documents/thesis/project/backend/recommender_system/tdf_if.ipynb#X25sZmlsZQ%3D%3D?line=1'>2</a>\u001b[0m \u001b[39mprint\u001b[39m(\u001b[39m\"\u001b[39m\u001b[39mthis is idx and row\u001b[39m\u001b[39m\"\u001b[39m, idx, row)\n\u001b[1;32m      <a href='vscode-notebook-cell:/Users/myasin/Documents/thesis/project/backend/recommender_system/tdf_if.ipynb#X25sZmlsZQ%3D%3D?line=2'>3</a>\u001b[0m similar_indices \u001b[39m=\u001b[39m cosine_similarities[idx]\u001b[39m.\u001b[39margsort()[:\u001b[39m-\u001b[39m\u001b[39m100\u001b[39m:\u001b[39m-\u001b[39m\u001b[39m1\u001b[39m]\n\u001b[0;32m----> <a href='vscode-notebook-cell:/Users/myasin/Documents/thesis/project/backend/recommender_system/tdf_if.ipynb#X25sZmlsZQ%3D%3D?line=3'>4</a>\u001b[0m similar_items \u001b[39m=\u001b[39m [(cosine_similarities[idx][i], df[\u001b[39m'\u001b[39m\u001b[39mid\u001b[39m\u001b[39m'\u001b[39m][i]) \u001b[39mfor\u001b[39;00m i \u001b[39min\u001b[39;00m similar_indices]\n\u001b[1;32m      <a href='vscode-notebook-cell:/Users/myasin/Documents/thesis/project/backend/recommender_system/tdf_if.ipynb#X25sZmlsZQ%3D%3D?line=5'>6</a>\u001b[0m results[row[\u001b[39m'\u001b[39m\u001b[39mid\u001b[39m\u001b[39m'\u001b[39m]] \u001b[39m=\u001b[39m similar_items[\u001b[39m1\u001b[39m:]\n",
      "\u001b[1;32m/Users/myasin/Documents/thesis/project/backend/recommender_system/tdf_if.ipynb Cell 11\u001b[0m in \u001b[0;36m<listcomp>\u001b[0;34m(.0)\u001b[0m\n\u001b[1;32m      <a href='vscode-notebook-cell:/Users/myasin/Documents/thesis/project/backend/recommender_system/tdf_if.ipynb#X25sZmlsZQ%3D%3D?line=1'>2</a>\u001b[0m \u001b[39mprint\u001b[39m(\u001b[39m\"\u001b[39m\u001b[39mthis is idx and row\u001b[39m\u001b[39m\"\u001b[39m, idx, row)\n\u001b[1;32m      <a href='vscode-notebook-cell:/Users/myasin/Documents/thesis/project/backend/recommender_system/tdf_if.ipynb#X25sZmlsZQ%3D%3D?line=2'>3</a>\u001b[0m similar_indices \u001b[39m=\u001b[39m cosine_similarities[idx]\u001b[39m.\u001b[39margsort()[:\u001b[39m-\u001b[39m\u001b[39m100\u001b[39m:\u001b[39m-\u001b[39m\u001b[39m1\u001b[39m]\n\u001b[0;32m----> <a href='vscode-notebook-cell:/Users/myasin/Documents/thesis/project/backend/recommender_system/tdf_if.ipynb#X25sZmlsZQ%3D%3D?line=3'>4</a>\u001b[0m similar_items \u001b[39m=\u001b[39m [(cosine_similarities[idx][i], df[\u001b[39m'\u001b[39;49m\u001b[39mid\u001b[39;49m\u001b[39m'\u001b[39;49m][i]) \u001b[39mfor\u001b[39;00m i \u001b[39min\u001b[39;00m similar_indices]\n\u001b[1;32m      <a href='vscode-notebook-cell:/Users/myasin/Documents/thesis/project/backend/recommender_system/tdf_if.ipynb#X25sZmlsZQ%3D%3D?line=5'>6</a>\u001b[0m results[row[\u001b[39m'\u001b[39m\u001b[39mid\u001b[39m\u001b[39m'\u001b[39m]] \u001b[39m=\u001b[39m similar_items[\u001b[39m1\u001b[39m:]\n",
      "File \u001b[0;32m/opt/anaconda3/envs/thesis/lib/python3.10/site-packages/pandas/core/frame.py:3805\u001b[0m, in \u001b[0;36mDataFrame.__getitem__\u001b[0;34m(self, key)\u001b[0m\n\u001b[1;32m   3803\u001b[0m \u001b[39mif\u001b[39;00m \u001b[39mself\u001b[39m\u001b[39m.\u001b[39mcolumns\u001b[39m.\u001b[39mnlevels \u001b[39m>\u001b[39m \u001b[39m1\u001b[39m:\n\u001b[1;32m   3804\u001b[0m     \u001b[39mreturn\u001b[39;00m \u001b[39mself\u001b[39m\u001b[39m.\u001b[39m_getitem_multilevel(key)\n\u001b[0;32m-> 3805\u001b[0m indexer \u001b[39m=\u001b[39m \u001b[39mself\u001b[39;49m\u001b[39m.\u001b[39;49mcolumns\u001b[39m.\u001b[39;49mget_loc(key)\n\u001b[1;32m   3806\u001b[0m \u001b[39mif\u001b[39;00m is_integer(indexer):\n\u001b[1;32m   3807\u001b[0m     indexer \u001b[39m=\u001b[39m [indexer]\n",
      "File \u001b[0;32m/opt/anaconda3/envs/thesis/lib/python3.10/site-packages/pandas/core/indexes/base.py:3802\u001b[0m, in \u001b[0;36mIndex.get_loc\u001b[0;34m(self, key, method, tolerance)\u001b[0m\n\u001b[1;32m   3800\u001b[0m     \u001b[39mreturn\u001b[39;00m \u001b[39mself\u001b[39m\u001b[39m.\u001b[39m_engine\u001b[39m.\u001b[39mget_loc(casted_key)\n\u001b[1;32m   3801\u001b[0m \u001b[39mexcept\u001b[39;00m \u001b[39mKeyError\u001b[39;00m \u001b[39mas\u001b[39;00m err:\n\u001b[0;32m-> 3802\u001b[0m     \u001b[39mraise\u001b[39;00m \u001b[39mKeyError\u001b[39;00m(key) \u001b[39mfrom\u001b[39;00m \u001b[39merr\u001b[39;00m\n\u001b[1;32m   3803\u001b[0m \u001b[39mexcept\u001b[39;00m \u001b[39mTypeError\u001b[39;00m:\n\u001b[1;32m   3804\u001b[0m     \u001b[39m# If we have a listlike key, _check_indexing_error will raise\u001b[39;00m\n\u001b[1;32m   3805\u001b[0m     \u001b[39m#  InvalidIndexError. Otherwise we fall through and re-raise\u001b[39;00m\n\u001b[1;32m   3806\u001b[0m     \u001b[39m#  the TypeError.\u001b[39;00m\n\u001b[1;32m   3807\u001b[0m     \u001b[39mself\u001b[39m\u001b[39m.\u001b[39m_check_indexing_error(key)\n",
      "\u001b[0;31mKeyError\u001b[0m: 'id'"
     ]
    }
   ],
   "source": [
    "for idx, row in df.iterrows():\n",
    "    print(\"this is idx and row\", idx, row)\n",
    "    similar_indices = cosine_similarities[idx].argsort()[:-100:-1]\n",
    "    print (\"similar_indices\", similar_indices)\n",
    "    similar_items = [(cosine_similarities[idx][i], df['id'][i]) for i in similar_indices]\n",
    "\n",
    "    results[row['id']] = similar_items[1:]"
   ]
  },
  {
   "cell_type": "code",
   "execution_count": null,
   "metadata": {},
   "outputs": [],
   "source": []
  },
  {
   "cell_type": "code",
   "execution_count": null,
   "metadata": {},
   "outputs": [],
   "source": []
  },
  {
   "cell_type": "code",
   "execution_count": null,
   "metadata": {},
   "outputs": [],
   "source": []
  },
  {
   "cell_type": "code",
   "execution_count": null,
   "metadata": {},
   "outputs": [],
   "source": []
  },
  {
   "cell_type": "code",
   "execution_count": null,
   "metadata": {},
   "outputs": [],
   "source": []
  },
  {
   "cell_type": "code",
   "execution_count": null,
   "metadata": {},
   "outputs": [],
   "source": []
  },
  {
   "cell_type": "code",
   "execution_count": null,
   "metadata": {},
   "outputs": [],
   "source": []
  },
  {
   "cell_type": "code",
   "execution_count": null,
   "metadata": {},
   "outputs": [],
   "source": []
  },
  {
   "cell_type": "code",
   "execution_count": null,
   "metadata": {},
   "outputs": [],
   "source": []
  },
  {
   "cell_type": "code",
   "execution_count": null,
   "metadata": {},
   "outputs": [],
   "source": []
  },
  {
   "cell_type": "code",
   "execution_count": null,
   "metadata": {},
   "outputs": [],
   "source": []
  },
  {
   "cell_type": "code",
   "execution_count": null,
   "metadata": {},
   "outputs": [],
   "source": []
  },
  {
   "cell_type": "code",
   "execution_count": null,
   "metadata": {},
   "outputs": [],
   "source": []
  },
  {
   "cell_type": "code",
   "execution_count": null,
   "metadata": {},
   "outputs": [],
   "source": []
  }
 ],
 "metadata": {
  "kernelspec": {
   "display_name": "Python 3.10.4 ('thesis')",
   "language": "python",
   "name": "python3"
  },
  "language_info": {
   "codemirror_mode": {
    "name": "ipython",
    "version": 3
   },
   "file_extension": ".py",
   "mimetype": "text/x-python",
   "name": "python",
   "nbconvert_exporter": "python",
   "pygments_lexer": "ipython3",
   "version": "3.10.4"
  },
  "orig_nbformat": 4,
  "vscode": {
   "interpreter": {
    "hash": "474cabef28ef5f39850ae0283db27a2b2b64f747313c5bcb210a7b2692fe8216"
   }
  }
 },
 "nbformat": 4,
 "nbformat_minor": 2
}
